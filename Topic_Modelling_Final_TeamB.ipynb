{
  "nbformat": 4,
  "nbformat_minor": 0,
  "metadata": {
    "colab": {
      "name": "Topic_Modelling_Final_TeamB",
      "provenance": [],
      "collapsed_sections": []
    },
    "kernelspec": {
      "name": "python3",
      "display_name": "Python 3"
    },
    "language_info": {
      "name": "python"
    }
  },
  "cells": [
    {
      "cell_type": "markdown",
      "source": [
        "\n",
        "# Introduction"
      ],
      "metadata": {
        "id": "yyigVYYQCLPm"
      }
    },
    {
      "cell_type": "markdown",
      "source": [
        "Natural language processing (NLP) refers to the branch of computer science—and more specifically, the branch of artificial intelligence or AI—concerned with giving computers the ability to understand text and spoken words in much the same way human beings can. Its end applications are many — chatbots, recommender systems, search, virtual assistants, etc.\n",
        "\n",
        "For this project we chose to focus on the Topic Modelling aspect of Natural Language Processing.\n",
        "\n",
        "Topic modelling is recognizing the words from the topics present in the document or the corpus of data. This is useful because extracting the words from a document takes more time and is much more complex than extracting them from topics present in the document."
      ],
      "metadata": {
        "id": "vk66pxCWCOF1"
      }
    },
    {
      "cell_type": "code",
      "source": [
        "# install if not available\n",
        "%%capture\n",
        "!pip install pyLDAvis"
      ],
      "metadata": {
        "id": "pxgpSYaPqMcz"
      },
      "execution_count": null,
      "outputs": []
    },
    {
      "cell_type": "code",
      "source": [
        "# import libraries\n",
        "%%capture\n",
        "import pandas as pd\n",
        "import numpy as np\n",
        "import matplotlib.pyplot as plt\n",
        "import seaborn as sns\n",
        "import sklearn\n",
        "import spacy\n",
        "import re\n",
        "import nltk\n",
        "from nltk.tokenize import RegexpTokenizer\n",
        "from nltk.corpus import stopwords\n",
        "from nltk.stem.wordnet import WordNetLemmatizer\n",
        "from sklearn.feature_extraction.text import CountVectorizer\n",
        "from sklearn.feature_extraction.text import TfidfVectorizer\n",
        "from sklearn.decomposition import LatentDirichletAllocation\n",
        "import pickle\n",
        "from sklearn.model_selection import GridSearchCV\n",
        "import pyLDAvis\n",
        "import pyLDAvis.sklearn\n",
        "pyLDAvis.enable_notebook()\n",
        "import pickle\n",
        "from wordcloud import WordCloud, STOPWORDS\n",
        "import warnings\n",
        "warnings.filterwarnings(\"ignore\")"
      ],
      "metadata": {
        "id": "uG4Y9Lovuzei"
      },
      "execution_count": null,
      "outputs": []
    },
    {
      "cell_type": "markdown",
      "source": [
        "# Dataset\n",
        "\n",
        "We used Machine Learning to explore which topics our followers on twitter are engaging with the most. Next step is to actually get the data from a Twitter api using Tweepy and other tools to pull data and refine data to get to the data we need. As a proof of concept, the region was isolated to tweets in South Africa."
      ],
      "metadata": {
        "id": "MKQ-_5d3CVZA"
      }
    },
    {
      "cell_type": "code",
      "source": [
        "# download the tweet dataset \n",
        "%%capture\n",
        "!wget https://dsiwork.s3.amazonaws.com/dataset.csv"
      ],
      "metadata": {
        "id": "WbuWF9xewjnz"
      },
      "execution_count": null,
      "outputs": []
    },
    {
      "cell_type": "code",
      "source": [
        "data = pd.read_csv(\"dataset.csv\", parse_dates=[\"date_created\"],   encoding=\"ISO-8859-1\")"
      ],
      "metadata": {
        "id": "IW8-k8vUxgtq"
      },
      "execution_count": null,
      "outputs": []
    },
    {
      "cell_type": "code",
      "source": [
        "data.head()"
      ],
      "metadata": {
        "colab": {
          "base_uri": "https://localhost:8080/",
          "height": 206
        },
        "id": "EbS1l-ZTxyay",
        "outputId": "168f9081-856d-48fe-b9fe-d918907fe21e"
      },
      "execution_count": null,
      "outputs": [
        {
          "output_type": "execute_result",
          "data": {
            "text/plain": [
              "                    id  retweet_count              date_created  \\\n",
              "0  1508758968482635778           1092 2022-03-29 10:52:24+00:00   \n",
              "1  1508661904192913410           2275 2022-03-29 04:26:42+00:00   \n",
              "2  1508815292578816015            563 2022-03-29 14:36:12+00:00   \n",
              "3  1509067192888926208              9 2022-03-30 07:17:10+00:00   \n",
              "4  1509067189827026945              0 2022-03-30 07:17:09+00:00   \n",
              "\n",
              "                                               tweet  \n",
              "0  b'A 31-year-old Ugandan traditional healer liv...  \n",
              "1  b'Date mein kya rakha hai?\\nMarch 29th, a very...  \n",
              "2  b'Moeletsi Mbeki has accused South Africa\\xe2\\...  \n",
              "3  b\"RT @ThamiMasemola: Isuzu Motors South Africa...  \n",
              "4  b'SAFA President, ANC Dr Danny Jordaan \\n\\nIs ...  "
            ],
            "text/html": [
              "\n",
              "  <div id=\"df-11ac62a9-362f-4d47-a80f-30be721e4df9\">\n",
              "    <div class=\"colab-df-container\">\n",
              "      <div>\n",
              "<style scoped>\n",
              "    .dataframe tbody tr th:only-of-type {\n",
              "        vertical-align: middle;\n",
              "    }\n",
              "\n",
              "    .dataframe tbody tr th {\n",
              "        vertical-align: top;\n",
              "    }\n",
              "\n",
              "    .dataframe thead th {\n",
              "        text-align: right;\n",
              "    }\n",
              "</style>\n",
              "<table border=\"1\" class=\"dataframe\">\n",
              "  <thead>\n",
              "    <tr style=\"text-align: right;\">\n",
              "      <th></th>\n",
              "      <th>id</th>\n",
              "      <th>retweet_count</th>\n",
              "      <th>date_created</th>\n",
              "      <th>tweet</th>\n",
              "    </tr>\n",
              "  </thead>\n",
              "  <tbody>\n",
              "    <tr>\n",
              "      <th>0</th>\n",
              "      <td>1508758968482635778</td>\n",
              "      <td>1092</td>\n",
              "      <td>2022-03-29 10:52:24+00:00</td>\n",
              "      <td>b'A 31-year-old Ugandan traditional healer liv...</td>\n",
              "    </tr>\n",
              "    <tr>\n",
              "      <th>1</th>\n",
              "      <td>1508661904192913410</td>\n",
              "      <td>2275</td>\n",
              "      <td>2022-03-29 04:26:42+00:00</td>\n",
              "      <td>b'Date mein kya rakha hai?\\nMarch 29th, a very...</td>\n",
              "    </tr>\n",
              "    <tr>\n",
              "      <th>2</th>\n",
              "      <td>1508815292578816015</td>\n",
              "      <td>563</td>\n",
              "      <td>2022-03-29 14:36:12+00:00</td>\n",
              "      <td>b'Moeletsi Mbeki has accused South Africa\\xe2\\...</td>\n",
              "    </tr>\n",
              "    <tr>\n",
              "      <th>3</th>\n",
              "      <td>1509067192888926208</td>\n",
              "      <td>9</td>\n",
              "      <td>2022-03-30 07:17:10+00:00</td>\n",
              "      <td>b\"RT @ThamiMasemola: Isuzu Motors South Africa...</td>\n",
              "    </tr>\n",
              "    <tr>\n",
              "      <th>4</th>\n",
              "      <td>1509067189827026945</td>\n",
              "      <td>0</td>\n",
              "      <td>2022-03-30 07:17:09+00:00</td>\n",
              "      <td>b'SAFA President, ANC Dr Danny Jordaan \\n\\nIs ...</td>\n",
              "    </tr>\n",
              "  </tbody>\n",
              "</table>\n",
              "</div>\n",
              "      <button class=\"colab-df-convert\" onclick=\"convertToInteractive('df-11ac62a9-362f-4d47-a80f-30be721e4df9')\"\n",
              "              title=\"Convert this dataframe to an interactive table.\"\n",
              "              style=\"display:none;\">\n",
              "        \n",
              "  <svg xmlns=\"http://www.w3.org/2000/svg\" height=\"24px\"viewBox=\"0 0 24 24\"\n",
              "       width=\"24px\">\n",
              "    <path d=\"M0 0h24v24H0V0z\" fill=\"none\"/>\n",
              "    <path d=\"M18.56 5.44l.94 2.06.94-2.06 2.06-.94-2.06-.94-.94-2.06-.94 2.06-2.06.94zm-11 1L8.5 8.5l.94-2.06 2.06-.94-2.06-.94L8.5 2.5l-.94 2.06-2.06.94zm10 10l.94 2.06.94-2.06 2.06-.94-2.06-.94-.94-2.06-.94 2.06-2.06.94z\"/><path d=\"M17.41 7.96l-1.37-1.37c-.4-.4-.92-.59-1.43-.59-.52 0-1.04.2-1.43.59L10.3 9.45l-7.72 7.72c-.78.78-.78 2.05 0 2.83L4 21.41c.39.39.9.59 1.41.59.51 0 1.02-.2 1.41-.59l7.78-7.78 2.81-2.81c.8-.78.8-2.07 0-2.86zM5.41 20L4 18.59l7.72-7.72 1.47 1.35L5.41 20z\"/>\n",
              "  </svg>\n",
              "      </button>\n",
              "      \n",
              "  <style>\n",
              "    .colab-df-container {\n",
              "      display:flex;\n",
              "      flex-wrap:wrap;\n",
              "      gap: 12px;\n",
              "    }\n",
              "\n",
              "    .colab-df-convert {\n",
              "      background-color: #E8F0FE;\n",
              "      border: none;\n",
              "      border-radius: 50%;\n",
              "      cursor: pointer;\n",
              "      display: none;\n",
              "      fill: #1967D2;\n",
              "      height: 32px;\n",
              "      padding: 0 0 0 0;\n",
              "      width: 32px;\n",
              "    }\n",
              "\n",
              "    .colab-df-convert:hover {\n",
              "      background-color: #E2EBFA;\n",
              "      box-shadow: 0px 1px 2px rgba(60, 64, 67, 0.3), 0px 1px 3px 1px rgba(60, 64, 67, 0.15);\n",
              "      fill: #174EA6;\n",
              "    }\n",
              "\n",
              "    [theme=dark] .colab-df-convert {\n",
              "      background-color: #3B4455;\n",
              "      fill: #D2E3FC;\n",
              "    }\n",
              "\n",
              "    [theme=dark] .colab-df-convert:hover {\n",
              "      background-color: #434B5C;\n",
              "      box-shadow: 0px 1px 3px 1px rgba(0, 0, 0, 0.15);\n",
              "      filter: drop-shadow(0px 1px 2px rgba(0, 0, 0, 0.3));\n",
              "      fill: #FFFFFF;\n",
              "    }\n",
              "  </style>\n",
              "\n",
              "      <script>\n",
              "        const buttonEl =\n",
              "          document.querySelector('#df-11ac62a9-362f-4d47-a80f-30be721e4df9 button.colab-df-convert');\n",
              "        buttonEl.style.display =\n",
              "          google.colab.kernel.accessAllowed ? 'block' : 'none';\n",
              "\n",
              "        async function convertToInteractive(key) {\n",
              "          const element = document.querySelector('#df-11ac62a9-362f-4d47-a80f-30be721e4df9');\n",
              "          const dataTable =\n",
              "            await google.colab.kernel.invokeFunction('convertToInteractive',\n",
              "                                                     [key], {});\n",
              "          if (!dataTable) return;\n",
              "\n",
              "          const docLinkHtml = 'Like what you see? Visit the ' +\n",
              "            '<a target=\"_blank\" href=https://colab.research.google.com/notebooks/data_table.ipynb>data table notebook</a>'\n",
              "            + ' to learn more about interactive tables.';\n",
              "          element.innerHTML = '';\n",
              "          dataTable['output_type'] = 'display_data';\n",
              "          await google.colab.output.renderOutput(dataTable, element);\n",
              "          const docLink = document.createElement('div');\n",
              "          docLink.innerHTML = docLinkHtml;\n",
              "          element.appendChild(docLink);\n",
              "        }\n",
              "      </script>\n",
              "    </div>\n",
              "  </div>\n",
              "  "
            ]
          },
          "metadata": {},
          "execution_count": 6
        }
      ]
    },
    {
      "cell_type": "code",
      "source": [
        "# Size of dataset\n",
        "print(\"Dataset size:\", len(data))"
      ],
      "metadata": {
        "colab": {
          "base_uri": "https://localhost:8080/"
        },
        "id": "OPRDmIs6BaEq",
        "outputId": "1acde363-b062-4081-f62f-52d491f1aaa9"
      },
      "execution_count": null,
      "outputs": [
        {
          "output_type": "stream",
          "name": "stdout",
          "text": [
            "Dataset size: 2400\n"
          ]
        }
      ]
    },
    {
      "cell_type": "code",
      "source": [
        "print(data.info())"
      ],
      "metadata": {
        "colab": {
          "base_uri": "https://localhost:8080/"
        },
        "id": "f086u7lpBZ_V",
        "outputId": "4a98ea34-32eb-4988-a433-644729f7a5e7"
      },
      "execution_count": null,
      "outputs": [
        {
          "output_type": "stream",
          "name": "stdout",
          "text": [
            "<class 'pandas.core.frame.DataFrame'>\n",
            "RangeIndex: 2400 entries, 0 to 2399\n",
            "Data columns (total 4 columns):\n",
            " #   Column         Non-Null Count  Dtype              \n",
            "---  ------         --------------  -----              \n",
            " 0   id             2400 non-null   int64              \n",
            " 1   retweet_count  2400 non-null   int64              \n",
            " 2   date_created   2400 non-null   datetime64[ns, UTC]\n",
            " 3   tweet          2400 non-null   object             \n",
            "dtypes: datetime64[ns, UTC](1), int64(2), object(1)\n",
            "memory usage: 75.1+ KB\n",
            "None\n"
          ]
        }
      ]
    },
    {
      "cell_type": "code",
      "source": [
        "# Checking for nulls\n",
        "\n",
        "data.isnull().sum()"
      ],
      "metadata": {
        "colab": {
          "base_uri": "https://localhost:8080/"
        },
        "id": "O_7u6ZUrCrWm",
        "outputId": "413e7a39-41e7-46a9-e0b3-0c38d657f196"
      },
      "execution_count": null,
      "outputs": [
        {
          "output_type": "execute_result",
          "data": {
            "text/plain": [
              "id               0\n",
              "retweet_count    0\n",
              "date_created     0\n",
              "tweet            0\n",
              "dtype: int64"
            ]
          },
          "metadata": {},
          "execution_count": 9
        }
      ]
    },
    {
      "cell_type": "code",
      "source": [
        "#Checking for duplicates\n",
        "\n",
        "data.duplicated().sum()"
      ],
      "metadata": {
        "colab": {
          "base_uri": "https://localhost:8080/"
        },
        "id": "pcV2WT69Cvss",
        "outputId": "bd10ffb4-366f-498f-8292-94173592c23d"
      },
      "execution_count": null,
      "outputs": [
        {
          "output_type": "execute_result",
          "data": {
            "text/plain": [
              "0"
            ]
          },
          "metadata": {},
          "execution_count": 10
        }
      ]
    },
    {
      "cell_type": "markdown",
      "source": [
        "# Data Preprocessing\n",
        "\n",
        "\n",
        "After pulling and refining the data from the Twitter api and importing the required packages, we then converted it into a data frame and cleaned the data using a regex function to remove emojis, hashtags, extra spaces, punctuations, usernames, urls, and other unecessary signs and symbols so we can tokenize it for the next steps. "
      ],
      "metadata": {
        "id": "ZxXlLO4gCJVf"
      }
    },
    {
      "cell_type": "code",
      "source": [
        "def clean(text): \n",
        "    # cleans the text using regex library\n",
        "    # input: text => Strings \n",
        "    # returns: text => cleaned Strings\n",
        "      \n",
        "    text = str(text).lower()\n",
        "    text = re.sub(r'@\\w+', ' ', text)\n",
        "    text = re.sub('https?://\\S+|www\\.\\S+', '', text)\n",
        "    text = re.sub(r'[^a-z A-Z]', ' ',text)\n",
        "    text = re.sub(r'\\b\\w{1,2}\\b', '', text)\n",
        "    text = re.sub(r'[^\\w\\s]','',text)\n",
        "    text = re.sub(r'^RT[\\s]+', '', text)\n",
        "    text = re.sub('\\[.*?\\]', '', text)\n",
        "    text = re.sub('\\n', '', text)\n",
        "    text = re.sub('\\w*\\d\\w*', '', text)\n",
        "    text = re.sub(r'#', '', text)\n",
        "    text = re.sub(r'[^\\w\\s]','',text)\n",
        "    text = re.sub(r'@[A-Za-z0–9]+', '', text) \n",
        "    text = re.sub(r' +', ' ', text)\n",
        "    return text"
      ],
      "metadata": {
        "id": "n1KoZxIg411k"
      },
      "execution_count": null,
      "outputs": []
    },
    {
      "cell_type": "markdown",
      "source": [
        "Clean the tweet column by passing it through the regex function above and create a new column called clean_tweet for the cleaned tweets."
      ],
      "metadata": {
        "id": "sut4GgH1DSZ-"
      }
    },
    {
      "cell_type": "code",
      "source": [
        "data['clean_tweet'] = data.tweet.apply(clean)\n",
        "data.head()"
      ],
      "metadata": {
        "colab": {
          "base_uri": "https://localhost:8080/",
          "height": 337
        },
        "id": "kyFvMK2oyOFa",
        "outputId": "88fe659e-ea91-43d9-dce9-ce388c17d101"
      },
      "execution_count": null,
      "outputs": [
        {
          "output_type": "execute_result",
          "data": {
            "text/plain": [
              "                    id  retweet_count              date_created  \\\n",
              "0  1508758968482635778           1092 2022-03-29 10:52:24+00:00   \n",
              "1  1508661904192913410           2275 2022-03-29 04:26:42+00:00   \n",
              "2  1508815292578816015            563 2022-03-29 14:36:12+00:00   \n",
              "3  1509067192888926208              9 2022-03-30 07:17:10+00:00   \n",
              "4  1509067189827026945              0 2022-03-30 07:17:09+00:00   \n",
              "\n",
              "                                               tweet  \\\n",
              "0  b'A 31-year-old Ugandan traditional healer liv...   \n",
              "1  b'Date mein kya rakha hai?\\nMarch 29th, a very...   \n",
              "2  b'Moeletsi Mbeki has accused South Africa\\xe2\\...   \n",
              "3  b\"RT @ThamiMasemola: Isuzu Motors South Africa...   \n",
              "4  b'SAFA President, ANC Dr Danny Jordaan \\n\\nIs ...   \n",
              "\n",
              "                                         clean_tweet  \n",
              "0   year old ugandan traditional healer living so...  \n",
              "1   date mein kya rakha hai nmarch very significa...  \n",
              "2   moeletsi mbeki has accused south africa rulin...  \n",
              "3   isuzu motors south africa has begun manufactu...  \n",
              "4   safa president anc danny jordaan nis destroyi...  "
            ],
            "text/html": [
              "\n",
              "  <div id=\"df-28b9c9cd-61e1-4356-b7a4-f062082b641e\">\n",
              "    <div class=\"colab-df-container\">\n",
              "      <div>\n",
              "<style scoped>\n",
              "    .dataframe tbody tr th:only-of-type {\n",
              "        vertical-align: middle;\n",
              "    }\n",
              "\n",
              "    .dataframe tbody tr th {\n",
              "        vertical-align: top;\n",
              "    }\n",
              "\n",
              "    .dataframe thead th {\n",
              "        text-align: right;\n",
              "    }\n",
              "</style>\n",
              "<table border=\"1\" class=\"dataframe\">\n",
              "  <thead>\n",
              "    <tr style=\"text-align: right;\">\n",
              "      <th></th>\n",
              "      <th>id</th>\n",
              "      <th>retweet_count</th>\n",
              "      <th>date_created</th>\n",
              "      <th>tweet</th>\n",
              "      <th>clean_tweet</th>\n",
              "    </tr>\n",
              "  </thead>\n",
              "  <tbody>\n",
              "    <tr>\n",
              "      <th>0</th>\n",
              "      <td>1508758968482635778</td>\n",
              "      <td>1092</td>\n",
              "      <td>2022-03-29 10:52:24+00:00</td>\n",
              "      <td>b'A 31-year-old Ugandan traditional healer liv...</td>\n",
              "      <td>year old ugandan traditional healer living so...</td>\n",
              "    </tr>\n",
              "    <tr>\n",
              "      <th>1</th>\n",
              "      <td>1508661904192913410</td>\n",
              "      <td>2275</td>\n",
              "      <td>2022-03-29 04:26:42+00:00</td>\n",
              "      <td>b'Date mein kya rakha hai?\\nMarch 29th, a very...</td>\n",
              "      <td>date mein kya rakha hai nmarch very significa...</td>\n",
              "    </tr>\n",
              "    <tr>\n",
              "      <th>2</th>\n",
              "      <td>1508815292578816015</td>\n",
              "      <td>563</td>\n",
              "      <td>2022-03-29 14:36:12+00:00</td>\n",
              "      <td>b'Moeletsi Mbeki has accused South Africa\\xe2\\...</td>\n",
              "      <td>moeletsi mbeki has accused south africa rulin...</td>\n",
              "    </tr>\n",
              "    <tr>\n",
              "      <th>3</th>\n",
              "      <td>1509067192888926208</td>\n",
              "      <td>9</td>\n",
              "      <td>2022-03-30 07:17:10+00:00</td>\n",
              "      <td>b\"RT @ThamiMasemola: Isuzu Motors South Africa...</td>\n",
              "      <td>isuzu motors south africa has begun manufactu...</td>\n",
              "    </tr>\n",
              "    <tr>\n",
              "      <th>4</th>\n",
              "      <td>1509067189827026945</td>\n",
              "      <td>0</td>\n",
              "      <td>2022-03-30 07:17:09+00:00</td>\n",
              "      <td>b'SAFA President, ANC Dr Danny Jordaan \\n\\nIs ...</td>\n",
              "      <td>safa president anc danny jordaan nis destroyi...</td>\n",
              "    </tr>\n",
              "  </tbody>\n",
              "</table>\n",
              "</div>\n",
              "      <button class=\"colab-df-convert\" onclick=\"convertToInteractive('df-28b9c9cd-61e1-4356-b7a4-f062082b641e')\"\n",
              "              title=\"Convert this dataframe to an interactive table.\"\n",
              "              style=\"display:none;\">\n",
              "        \n",
              "  <svg xmlns=\"http://www.w3.org/2000/svg\" height=\"24px\"viewBox=\"0 0 24 24\"\n",
              "       width=\"24px\">\n",
              "    <path d=\"M0 0h24v24H0V0z\" fill=\"none\"/>\n",
              "    <path d=\"M18.56 5.44l.94 2.06.94-2.06 2.06-.94-2.06-.94-.94-2.06-.94 2.06-2.06.94zm-11 1L8.5 8.5l.94-2.06 2.06-.94-2.06-.94L8.5 2.5l-.94 2.06-2.06.94zm10 10l.94 2.06.94-2.06 2.06-.94-2.06-.94-.94-2.06-.94 2.06-2.06.94z\"/><path d=\"M17.41 7.96l-1.37-1.37c-.4-.4-.92-.59-1.43-.59-.52 0-1.04.2-1.43.59L10.3 9.45l-7.72 7.72c-.78.78-.78 2.05 0 2.83L4 21.41c.39.39.9.59 1.41.59.51 0 1.02-.2 1.41-.59l7.78-7.78 2.81-2.81c.8-.78.8-2.07 0-2.86zM5.41 20L4 18.59l7.72-7.72 1.47 1.35L5.41 20z\"/>\n",
              "  </svg>\n",
              "      </button>\n",
              "      \n",
              "  <style>\n",
              "    .colab-df-container {\n",
              "      display:flex;\n",
              "      flex-wrap:wrap;\n",
              "      gap: 12px;\n",
              "    }\n",
              "\n",
              "    .colab-df-convert {\n",
              "      background-color: #E8F0FE;\n",
              "      border: none;\n",
              "      border-radius: 50%;\n",
              "      cursor: pointer;\n",
              "      display: none;\n",
              "      fill: #1967D2;\n",
              "      height: 32px;\n",
              "      padding: 0 0 0 0;\n",
              "      width: 32px;\n",
              "    }\n",
              "\n",
              "    .colab-df-convert:hover {\n",
              "      background-color: #E2EBFA;\n",
              "      box-shadow: 0px 1px 2px rgba(60, 64, 67, 0.3), 0px 1px 3px 1px rgba(60, 64, 67, 0.15);\n",
              "      fill: #174EA6;\n",
              "    }\n",
              "\n",
              "    [theme=dark] .colab-df-convert {\n",
              "      background-color: #3B4455;\n",
              "      fill: #D2E3FC;\n",
              "    }\n",
              "\n",
              "    [theme=dark] .colab-df-convert:hover {\n",
              "      background-color: #434B5C;\n",
              "      box-shadow: 0px 1px 3px 1px rgba(0, 0, 0, 0.15);\n",
              "      filter: drop-shadow(0px 1px 2px rgba(0, 0, 0, 0.3));\n",
              "      fill: #FFFFFF;\n",
              "    }\n",
              "  </style>\n",
              "\n",
              "      <script>\n",
              "        const buttonEl =\n",
              "          document.querySelector('#df-28b9c9cd-61e1-4356-b7a4-f062082b641e button.colab-df-convert');\n",
              "        buttonEl.style.display =\n",
              "          google.colab.kernel.accessAllowed ? 'block' : 'none';\n",
              "\n",
              "        async function convertToInteractive(key) {\n",
              "          const element = document.querySelector('#df-28b9c9cd-61e1-4356-b7a4-f062082b641e');\n",
              "          const dataTable =\n",
              "            await google.colab.kernel.invokeFunction('convertToInteractive',\n",
              "                                                     [key], {});\n",
              "          if (!dataTable) return;\n",
              "\n",
              "          const docLinkHtml = 'Like what you see? Visit the ' +\n",
              "            '<a target=\"_blank\" href=https://colab.research.google.com/notebooks/data_table.ipynb>data table notebook</a>'\n",
              "            + ' to learn more about interactive tables.';\n",
              "          element.innerHTML = '';\n",
              "          dataTable['output_type'] = 'display_data';\n",
              "          await google.colab.output.renderOutput(dataTable, element);\n",
              "          const docLink = document.createElement('div');\n",
              "          docLink.innerHTML = docLinkHtml;\n",
              "          element.appendChild(docLink);\n",
              "        }\n",
              "      </script>\n",
              "    </div>\n",
              "  </div>\n",
              "  "
            ]
          },
          "metadata": {},
          "execution_count": 12
        }
      ]
    },
    {
      "cell_type": "markdown",
      "source": [
        "# Word Cloud\n",
        "\n",
        "Word cloud of our cleaned dataset to visualize the most important words.Tags are usually single words, and the importance of each tag is shown with font size or color."
      ],
      "metadata": {
        "id": "qBEorCQBDeY4"
      }
    },
    {
      "cell_type": "code",
      "source": [
        "customStopwords=list(STOPWORDS)\n",
        "\n",
        "\n",
        "wordcloudimage=WordCloud(max_words=2400,\n",
        "                         max_font_size=500,\n",
        "                         font_step=2,\n",
        "                         stopwords=customStopwords,\n",
        "                         background_color='black',\n",
        "                         width=1000,\n",
        "                         height=720).generate(str(data['clean_tweet'].values))                          \n",
        " \n",
        "plt.figure(figsize=(15,7))\n",
        "plt.axis(\"off\")\n",
        "plt.imshow(wordcloudimage)\n",
        "wordcloudimage\n",
        "plt.show()"
      ],
      "metadata": {
        "colab": {
          "base_uri": "https://localhost:8080/",
          "height": 411
        },
        "id": "ZAAgPDUBDkKQ",
        "outputId": "813b2d35-1540-48ae-e8fe-34109c5d1e72"
      },
      "execution_count": null,
      "outputs": [
        {
          "output_type": "display_data",
          "data": {
            "text/plain": [
              "<Figure size 1080x504 with 1 Axes>"
            ],
            "image/png": "[encoded data removed]"
          },
          "metadata": {
            "needs_background": "light"
          }
        }
      ]
    },
    {
      "cell_type": "markdown",
      "source": [
        "From our word cloud above, we see our most dominant and important words aside South Africa relate to violence and that exactly is what we are tracking."
      ],
      "metadata": {
        "id": "ClDriEYSFfMI"
      }
    },
    {
      "cell_type": "markdown",
      "source": [
        "## Removing Stop Words"
      ],
      "metadata": {
        "id": "dZ1CbPH9ETRG"
      }
    },
    {
      "cell_type": "markdown",
      "source": [
        "Stop words are generally filtered out before processing in natural language. words. These are actually the most common words in any language (like articles, prepositions, pronouns, conjunctions, etc) and does not add much information to the text. They are available in abundance in any human language. By removing these words, we remove the low-level information from our text in order to give more focus to the important information. \n",
        "We use the NLTK library and import the English stop words list."
      ],
      "metadata": {
        "id": "pAMExmN_GRXZ"
      }
    },
    {
      "cell_type": "code",
      "source": [
        "# download stopwords\n",
        "nltk.download('stopwords')"
      ],
      "metadata": {
        "colab": {
          "base_uri": "https://localhost:8080/"
        },
        "id": "W61zBNzGwlJT",
        "outputId": "d6a1131e-d986-4d68-dc8d-12d05d8da328"
      },
      "execution_count": null,
      "outputs": [
        {
          "output_type": "stream",
          "name": "stdout",
          "text": [
            "[nltk_data] Downloading package stopwords to /root/nltk_data...\n",
            "[nltk_data]   Unzipping corpora/stopwords.zip.\n"
          ]
        },
        {
          "output_type": "execute_result",
          "data": {
            "text/plain": [
              "True"
            ]
          },
          "metadata": {},
          "execution_count": 14
        }
      ]
    },
    {
      "cell_type": "code",
      "source": [
        "# Remove stopwords\n",
        "stop_words = set(stopwords.words(\"english\"))\n",
        "data[\"clean_tweet\"] = data[\"clean_tweet\"].apply(lambda x : \" \".join([w.lower() for w in x.split() if w not in stop_words and len(w) > 3]))"
      ],
      "metadata": {
        "id": "IqV3YCJWES7X"
      },
      "execution_count": null,
      "outputs": []
    },
    {
      "cell_type": "code",
      "source": [
        "data[\"clean_tweet\"].head()"
      ],
      "metadata": {
        "colab": {
          "base_uri": "https://localhost:8080/"
        },
        "id": "OR-OKW81E4dj",
        "outputId": "52517e32-3b13-4c4f-8d24-731565470266"
      },
      "execution_count": null,
      "outputs": [
        {
          "output_type": "execute_result",
          "data": {
            "text/plain": [
              "0    year ugandan traditional healer living south a...\n",
              "1    date mein rakha nmarch significant date cricke...\n",
              "2    moeletsi mbeki accused south africa ruling par...\n",
              "3    isuzu motors south africa begun manufacturing ...\n",
              "4    safa president danny jordaan destroying footba...\n",
              "Name: clean_tweet, dtype: object"
            ]
          },
          "metadata": {},
          "execution_count": 16
        }
      ]
    },
    {
      "cell_type": "markdown",
      "source": [
        "##Tokenization"
      ],
      "metadata": {
        "id": "mOAteisDG_br"
      }
    },
    {
      "cell_type": "markdown",
      "source": [
        "Tokenization is the process of breaking apart raw text into individual pieces (tokens) for further analysis. This process is important because the meaning of the text can be interpreted through analysis of the words present in the text."
      ],
      "metadata": {
        "id": "o4wPDuiRJo-3"
      }
    },
    {
      "cell_type": "code",
      "source": [
        "# Tokenize tweet\n",
        "tweets = data[\"clean_tweet\"].apply(lambda x : x.split())"
      ],
      "metadata": {
        "id": "kaWb4VD35-y8"
      },
      "execution_count": null,
      "outputs": []
    },
    {
      "cell_type": "code",
      "source": [
        "tweets"
      ],
      "metadata": {
        "colab": {
          "base_uri": "https://localhost:8080/"
        },
        "id": "RKaTgjkmnul1",
        "outputId": "f6e273c5-3246-44c3-d468-0a0c2aa34944"
      },
      "execution_count": null,
      "outputs": [
        {
          "output_type": "execute_result",
          "data": {
            "text/plain": [
              "0       [year, ugandan, traditional, healer, living, s...\n",
              "1       [date, mein, rakha, nmarch, significant, date,...\n",
              "2       [moeletsi, mbeki, accused, south, africa, ruli...\n",
              "3       [isuzu, motors, south, africa, begun, manufact...\n",
              "4       [safa, president, danny, jordaan, destroying, ...\n",
              "                              ...                        \n",
              "2395    [mined, kimberley, south, africa, carat, tiffa...\n",
              "2396    [breaking, government, mexico, publicly, rejec...\n",
              "2397    [giveaway, human, lion, cage, experience, life...\n",
              "2398      [save, exchange, south, africa, showing, flame]\n",
              "2399    [must, watch, ndrama, agony, ecstasy, access, ...\n",
              "Name: clean_tweet, Length: 2400, dtype: object"
            ]
          },
          "metadata": {},
          "execution_count": 18
        }
      ]
    },
    {
      "cell_type": "markdown",
      "source": [
        "## Lemmatization"
      ],
      "metadata": {
        "id": "MXEj_2L-n0Ni"
      }
    },
    {
      "cell_type": "markdown",
      "source": [
        "Lemmatization is a process where we convert words to its root word. The advantage of this is, we get to reduce the total number of unique words in the dictionary. As a result, the number of columns in the document-word matrix (created by TfidfVectorizer in the next step) will be denser with lesser columns.\n",
        "\n"
      ],
      "metadata": {
        "id": "zRwkCEcAoiph"
      }
    },
    {
      "cell_type": "code",
      "source": [
        "def lemmatization(texts, allowed_postags=['NOUN', 'ADJ', 'VERB', 'ADV']):\n",
        "    \"\"\"\n",
        "    function to lemmatize text imput, keeping noun, adj, verb, adverb\n",
        "    paramters\n",
        "    ---------\n",
        "    texts: list of text strings\n",
        "    allowed_postags: list of tags to keep\n",
        "\n",
        "    returns\n",
        "    ------\n",
        "    texts: lemmatized string tokens\n",
        "    \"\"\"\n",
        "    texts_out = []\n",
        "    for sent in texts:\n",
        "        doc = nlp(\" \".join(sent)) \n",
        "        texts_out.append(\" \".join([token.lemma_ if token.lemma_ not in ['-PRON-'] else '' for token in doc if token.pos_ in allowed_postags]))\n",
        "    return texts_out\n",
        "\n",
        "# Initialize spacy 'en' model, keeping only tagger component (for efficiency)\n",
        "nlp = spacy.load('en', disable=['parser', 'ner'])\n",
        "\n",
        "# lemmatize keeping only Noun, Adj, Verb, Adverb\n",
        "data_lemmatized = lemmatization(tweets, allowed_postags=['NOUN', 'ADJ', 'VERB', 'ADV'])"
      ],
      "metadata": {
        "id": "-d1g6wPWYcJf"
      },
      "execution_count": null,
      "outputs": []
    },
    {
      "cell_type": "code",
      "source": [
        "data_lemmatized[:10]"
      ],
      "metadata": {
        "colab": {
          "base_uri": "https://localhost:8080/"
        },
        "id": "FXs25GR0poPu",
        "outputId": "fb64a509-2380-4fdb-ff66-28f368311101"
      },
      "execution_count": null,
      "outputs": [
        {
          "output_type": "execute_result",
          "data": {
            "text/plain": [
              "['year live illegally hand year prison term',\n",
              " 'significant date cricket life first triple',\n",
              " 'accuse rule collaborate',\n",
              " 'begin manufacture currently country best sell bakkie brand',\n",
              " 'destroy',\n",
              " 'circumstance sound year later poverty modernisation',\n",
              " 'seek great gain clean plan',\n",
              " 'get beat ndolly',\n",
              " '',\n",
              " 'nominated title graphic identity creature great small world']"
            ]
          },
          "metadata": {},
          "execution_count": 20
        }
      ]
    },
    {
      "cell_type": "markdown",
      "source": [
        "## Vectorization\n",
        "\n",
        "The LDA topic model algorithm requires a document word matrix as the main input. We used the scikit learn TfidfVectorizer together with n_grams. \n",
        "TfidfVectorizer helps us in dealing with most frequent words and weights the word counts by a measure of how often they appear in the documents.\n",
        "\n",
        "So, to create the doc-word matrix, you need to first initialise the TfidfVectorizer with the n_gram range and instead of a single word count, we can count the word pairs. In our case bigrams and trigrams so that we are no longer treating a single word, but two words and three words frequently occurring together in the document. \n",
        "\n",
        "Then we apply fit_transform to actually create the matrix. Since most cells contain zeros, the result will be in the form of a sparse matrix to save memory."
      ],
      "metadata": {
        "id": "LfZV8_sTORJJ"
      }
    },
    {
      "cell_type": "code",
      "source": [
        "vectorizer = TfidfVectorizer(ngram_range=(2,3))\n",
        "data_vectorized = vectorizer.fit_transform(data_lemmatized)"
      ],
      "metadata": {
        "id": "S8EKqIo8Z8qs"
      },
      "execution_count": null,
      "outputs": []
    },
    {
      "cell_type": "code",
      "source": [
        "data_vectorized"
      ],
      "metadata": {
        "colab": {
          "base_uri": "https://localhost:8080/"
        },
        "id": "2kJOmozuYb5q",
        "outputId": "f18e5ce6-146f-49e5-f199-c710da8828d9"
      },
      "execution_count": null,
      "outputs": [
        {
          "output_type": "execute_result",
          "data": {
            "text/plain": [
              "<2400x6217 sparse matrix of type '<class 'numpy.float64'>'\n",
              "\twith 15522 stored elements in Compressed Sparse Row format>"
            ]
          },
          "metadata": {},
          "execution_count": 22
        }
      ]
    },
    {
      "cell_type": "markdown",
      "source": [
        "# LDA Model"
      ],
      "metadata": {
        "id": "3GVGfi2QrMuw"
      }
    },
    {
      "cell_type": "markdown",
      "source": [
        "In natural language processing, the latent Dirichlet allocation (LDA) discovers topics in a collection of documents, and then automatically classify any individual document within the collection in terms of how \"relevant\" it is to each of the discovered topics. A topic is considered to be a set of terms (i.e. individual words or phrases) that, taken together, suggest a shared theme.\n",
        "\n",
        "[link text](https://en.wikipedia.org/wiki/Latent_Dirichlet_allocation)\n",
        "\n",
        "The most important tuning parameter for LDA models is n_components (number of topics). We set ours to 10."
      ],
      "metadata": {
        "id": "2EhiGuEFVAUd"
      }
    },
    {
      "cell_type": "code",
      "source": [
        "# Build LDA Model\n",
        "lda_model = LatentDirichletAllocation(n_components=10,          \n",
        "                                      max_iter=10,               \n",
        "                                      learning_method='online',   \n",
        "                                      random_state=100,          \n",
        "                                      batch_size=128,            \n",
        "                                      evaluate_every = -1,      \n",
        "                                      n_jobs = -1,              \n",
        "                                     )\n",
        "lda_output = lda_model.fit_transform(data_vectorized)"
      ],
      "metadata": {
        "id": "6wa2UhU96qs7"
      },
      "execution_count": null,
      "outputs": []
    },
    {
      "cell_type": "markdown",
      "source": [
        "## Grid Search to find the Optimal model"
      ],
      "metadata": {
        "id": "ob3QBu6iwIjm"
      }
    },
    {
      "cell_type": "markdown",
      "source": [
        "Grid search is a tuning technique that attempts to compute the optimum values of hyperparameters. We search for the most important tuning parameter n_components (number of topics) and the learning_decay (which controls the learning rate) as well."
      ],
      "metadata": {
        "id": "nKOK-peNg2gf"
      }
    },
    {
      "cell_type": "code",
      "source": [
        "# Define Search Param\n",
        "search_params = {'n_components': [5, 10, 15, 20, 25, 30], 'learning_decay': [.5, .7, .9]}\n",
        "\n",
        "# Init the Model\n",
        "lda = LatentDirichletAllocation()\n",
        "\n",
        "# Init Grid Search Class\n",
        "model = GridSearchCV(lda, param_grid=search_params)\n",
        "\n",
        "# Do the Grid Search\n",
        "model.fit(data_vectorized)"
      ],
      "metadata": {
        "colab": {
          "base_uri": "https://localhost:8080/"
        },
        "id": "8P7oJUyka7tH",
        "outputId": "4778b827-e458-4533-b318-8a1f4ad2d70b"
      },
      "execution_count": null,
      "outputs": [
        {
          "output_type": "execute_result",
          "data": {
            "text/plain": [
              "GridSearchCV(estimator=LatentDirichletAllocation(),\n",
              "             param_grid={'learning_decay': [0.5, 0.7, 0.9],\n",
              "                         'n_components': [5, 10, 15, 20, 25, 30]})"
            ]
          },
          "metadata": {},
          "execution_count": 24
        }
      ]
    },
    {
      "cell_type": "code",
      "source": [
        "# Best Model\n",
        "best_lda_model = model.best_estimator_\n",
        "\n",
        "# Model Parameters\n",
        "print(\"Best Model's Params: \", model.best_params_)"
      ],
      "metadata": {
        "colab": {
          "base_uri": "https://localhost:8080/"
        },
        "id": "CoxxrqMPa7o8",
        "outputId": "cfc3dff2-4fd0-4ee8-f61f-75f27b971c65"
      },
      "execution_count": null,
      "outputs": [
        {
          "output_type": "stream",
          "name": "stdout",
          "text": [
            "Best Model's Params:  {'learning_decay': 0.9, 'n_components': 5}\n"
          ]
        }
      ]
    },
    {
      "cell_type": "markdown",
      "source": [
        "Our Grid search returned 5 as the optimal number of topics with a learning decay of 0.5."
      ],
      "metadata": {
        "id": "-wnf9L3dkA8k"
      }
    },
    {
      "cell_type": "markdown",
      "source": [
        "Next, we check which topic has the highest contribution to that document and assign the topic to it.\n",
        "\n",
        "In the table below, we greened out all major topics in a document and assigned the most dominant topic in its own column."
      ],
      "metadata": {
        "id": "Slzot2a0n5m_"
      }
    },
    {
      "cell_type": "code",
      "source": [
        "# Create Document - Topic Matrix\n",
        "lda_output = best_lda_model.transform(data_vectorized)\n",
        "\n",
        "# column names\n",
        "topicnames = [\"Topic\" + str(i) for i in range(best_lda_model.n_components)]\n",
        "\n",
        "# index names\n",
        "docnames = [\"Tweet\" + str(i) for i in range(len(data[\"clean_tweet\"]))]\n",
        "\n",
        "# Make the pandas dataframe\n",
        "df_document_topic = pd.DataFrame(np.round(lda_output, 2), columns=topicnames, index=docnames)\n",
        "\n",
        "# Get dominant topic for each document\n",
        "dominant_topic = np.argmax(df_document_topic.values, axis=1)\n",
        "df_document_topic['Dominant_topic'] = dominant_topic\n",
        "\n",
        "# Styling\n",
        "def color_green(val):\n",
        "    color = 'green' if val > .1 else 'black'\n",
        "    return 'color: {col}'.format(col=color)\n",
        "\n",
        "def make_bold(val):\n",
        "    weight = 700 if val > .1 else 400\n",
        "    return 'font-weight: {weight}'.format(weight=weight)\n",
        "\n",
        "# Apply Style\n",
        "df_document_topics = df_document_topic.head(10).style.applymap(color_green).applymap(make_bold)\n",
        "df_document_topics"
      ],
      "metadata": {
        "colab": {
          "base_uri": "https://localhost:8080/",
          "height": 363
        },
        "id": "W-FzJvzEa7gO",
        "outputId": "5adc3bea-fed9-4249-f9fa-f986225a2d7e"
      },
      "execution_count": null,
      "outputs": [
        {
          "output_type": "execute_result",
          "data": {
            "text/plain": [
              "<pandas.io.formats.style.Styler at 0x7fa161a15ad0>"
            ],
            "text/html": [
              "<style type=\"text/css\">\n",
              "#T_80962_row0_col0, #T_80962_row1_col2, #T_80962_row1_col5, #T_80962_row2_col2, #T_80962_row2_col5, #T_80962_row3_col3, #T_80962_row3_col5, #T_80962_row4_col0, #T_80962_row4_col1, #T_80962_row4_col2, #T_80962_row4_col3, #T_80962_row4_col4, #T_80962_row5_col4, #T_80962_row5_col5, #T_80962_row6_col4, #T_80962_row6_col5, #T_80962_row7_col3, #T_80962_row7_col5, #T_80962_row8_col0, #T_80962_row8_col1, #T_80962_row8_col2, #T_80962_row8_col3, #T_80962_row8_col4, #T_80962_row9_col0 {\n",
              "  color: green;\n",
              "  font-weight: 700;\n",
              "}\n",
              "#T_80962_row0_col1, #T_80962_row0_col2, #T_80962_row0_col3, #T_80962_row0_col4, #T_80962_row0_col5, #T_80962_row1_col0, #T_80962_row1_col1, #T_80962_row1_col3, #T_80962_row1_col4, #T_80962_row2_col0, #T_80962_row2_col1, #T_80962_row2_col3, #T_80962_row2_col4, #T_80962_row3_col0, #T_80962_row3_col1, #T_80962_row3_col2, #T_80962_row3_col4, #T_80962_row4_col5, #T_80962_row5_col0, #T_80962_row5_col1, #T_80962_row5_col2, #T_80962_row5_col3, #T_80962_row6_col0, #T_80962_row6_col1, #T_80962_row6_col2, #T_80962_row6_col3, #T_80962_row7_col0, #T_80962_row7_col1, #T_80962_row7_col2, #T_80962_row7_col4, #T_80962_row8_col5, #T_80962_row9_col1, #T_80962_row9_col2, #T_80962_row9_col3, #T_80962_row9_col4, #T_80962_row9_col5 {\n",
              "  color: black;\n",
              "  font-weight: 400;\n",
              "}\n",
              "</style>\n",
              "<table id=\"T_80962_\" class=\"dataframe\">\n",
              "  <thead>\n",
              "    <tr>\n",
              "      <th class=\"blank level0\" >&nbsp;</th>\n",
              "      <th class=\"col_heading level0 col0\" >Topic0</th>\n",
              "      <th class=\"col_heading level0 col1\" >Topic1</th>\n",
              "      <th class=\"col_heading level0 col2\" >Topic2</th>\n",
              "      <th class=\"col_heading level0 col3\" >Topic3</th>\n",
              "      <th class=\"col_heading level0 col4\" >Topic4</th>\n",
              "      <th class=\"col_heading level0 col5\" >Dominant_topic</th>\n",
              "    </tr>\n",
              "  </thead>\n",
              "  <tbody>\n",
              "    <tr>\n",
              "      <th id=\"T_80962_level0_row0\" class=\"row_heading level0 row0\" >Tweet0</th>\n",
              "      <td id=\"T_80962_row0_col0\" class=\"data row0 col0\" >0.810000</td>\n",
              "      <td id=\"T_80962_row0_col1\" class=\"data row0 col1\" >0.050000</td>\n",
              "      <td id=\"T_80962_row0_col2\" class=\"data row0 col2\" >0.050000</td>\n",
              "      <td id=\"T_80962_row0_col3\" class=\"data row0 col3\" >0.050000</td>\n",
              "      <td id=\"T_80962_row0_col4\" class=\"data row0 col4\" >0.050000</td>\n",
              "      <td id=\"T_80962_row0_col5\" class=\"data row0 col5\" >0</td>\n",
              "    </tr>\n",
              "    <tr>\n",
              "      <th id=\"T_80962_level0_row1\" class=\"row_heading level0 row1\" >Tweet1</th>\n",
              "      <td id=\"T_80962_row1_col0\" class=\"data row1 col0\" >0.050000</td>\n",
              "      <td id=\"T_80962_row1_col1\" class=\"data row1 col1\" >0.050000</td>\n",
              "      <td id=\"T_80962_row1_col2\" class=\"data row1 col2\" >0.800000</td>\n",
              "      <td id=\"T_80962_row1_col3\" class=\"data row1 col3\" >0.050000</td>\n",
              "      <td id=\"T_80962_row1_col4\" class=\"data row1 col4\" >0.050000</td>\n",
              "      <td id=\"T_80962_row1_col5\" class=\"data row1 col5\" >2</td>\n",
              "    </tr>\n",
              "    <tr>\n",
              "      <th id=\"T_80962_level0_row2\" class=\"row_heading level0 row2\" >Tweet2</th>\n",
              "      <td id=\"T_80962_row2_col0\" class=\"data row2 col0\" >0.070000</td>\n",
              "      <td id=\"T_80962_row2_col1\" class=\"data row2 col1\" >0.070000</td>\n",
              "      <td id=\"T_80962_row2_col2\" class=\"data row2 col2\" >0.710000</td>\n",
              "      <td id=\"T_80962_row2_col3\" class=\"data row2 col3\" >0.070000</td>\n",
              "      <td id=\"T_80962_row2_col4\" class=\"data row2 col4\" >0.070000</td>\n",
              "      <td id=\"T_80962_row2_col5\" class=\"data row2 col5\" >2</td>\n",
              "    </tr>\n",
              "    <tr>\n",
              "      <th id=\"T_80962_level0_row3\" class=\"row_heading level0 row3\" >Tweet3</th>\n",
              "      <td id=\"T_80962_row3_col0\" class=\"data row3 col0\" >0.040000</td>\n",
              "      <td id=\"T_80962_row3_col1\" class=\"data row3 col1\" >0.040000</td>\n",
              "      <td id=\"T_80962_row3_col2\" class=\"data row3 col2\" >0.040000</td>\n",
              "      <td id=\"T_80962_row3_col3\" class=\"data row3 col3\" >0.830000</td>\n",
              "      <td id=\"T_80962_row3_col4\" class=\"data row3 col4\" >0.040000</td>\n",
              "      <td id=\"T_80962_row3_col5\" class=\"data row3 col5\" >3</td>\n",
              "    </tr>\n",
              "    <tr>\n",
              "      <th id=\"T_80962_level0_row4\" class=\"row_heading level0 row4\" >Tweet4</th>\n",
              "      <td id=\"T_80962_row4_col0\" class=\"data row4 col0\" >0.200000</td>\n",
              "      <td id=\"T_80962_row4_col1\" class=\"data row4 col1\" >0.200000</td>\n",
              "      <td id=\"T_80962_row4_col2\" class=\"data row4 col2\" >0.200000</td>\n",
              "      <td id=\"T_80962_row4_col3\" class=\"data row4 col3\" >0.200000</td>\n",
              "      <td id=\"T_80962_row4_col4\" class=\"data row4 col4\" >0.200000</td>\n",
              "      <td id=\"T_80962_row4_col5\" class=\"data row4 col5\" >0</td>\n",
              "    </tr>\n",
              "    <tr>\n",
              "      <th id=\"T_80962_level0_row5\" class=\"row_heading level0 row5\" >Tweet5</th>\n",
              "      <td id=\"T_80962_row5_col0\" class=\"data row5 col0\" >0.050000</td>\n",
              "      <td id=\"T_80962_row5_col1\" class=\"data row5 col1\" >0.050000</td>\n",
              "      <td id=\"T_80962_row5_col2\" class=\"data row5 col2\" >0.050000</td>\n",
              "      <td id=\"T_80962_row5_col3\" class=\"data row5 col3\" >0.050000</td>\n",
              "      <td id=\"T_80962_row5_col4\" class=\"data row5 col4\" >0.800000</td>\n",
              "      <td id=\"T_80962_row5_col5\" class=\"data row5 col5\" >4</td>\n",
              "    </tr>\n",
              "    <tr>\n",
              "      <th id=\"T_80962_level0_row6\" class=\"row_heading level0 row6\" >Tweet6</th>\n",
              "      <td id=\"T_80962_row6_col0\" class=\"data row6 col0\" >0.050000</td>\n",
              "      <td id=\"T_80962_row6_col1\" class=\"data row6 col1\" >0.050000</td>\n",
              "      <td id=\"T_80962_row6_col2\" class=\"data row6 col2\" >0.050000</td>\n",
              "      <td id=\"T_80962_row6_col3\" class=\"data row6 col3\" >0.050000</td>\n",
              "      <td id=\"T_80962_row6_col4\" class=\"data row6 col4\" >0.780000</td>\n",
              "      <td id=\"T_80962_row6_col5\" class=\"data row6 col5\" >4</td>\n",
              "    </tr>\n",
              "    <tr>\n",
              "      <th id=\"T_80962_level0_row7\" class=\"row_heading level0 row7\" >Tweet7</th>\n",
              "      <td id=\"T_80962_row7_col0\" class=\"data row7 col0\" >0.070000</td>\n",
              "      <td id=\"T_80962_row7_col1\" class=\"data row7 col1\" >0.070000</td>\n",
              "      <td id=\"T_80962_row7_col2\" class=\"data row7 col2\" >0.070000</td>\n",
              "      <td id=\"T_80962_row7_col3\" class=\"data row7 col3\" >0.710000</td>\n",
              "      <td id=\"T_80962_row7_col4\" class=\"data row7 col4\" >0.070000</td>\n",
              "      <td id=\"T_80962_row7_col5\" class=\"data row7 col5\" >3</td>\n",
              "    </tr>\n",
              "    <tr>\n",
              "      <th id=\"T_80962_level0_row8\" class=\"row_heading level0 row8\" >Tweet8</th>\n",
              "      <td id=\"T_80962_row8_col0\" class=\"data row8 col0\" >0.200000</td>\n",
              "      <td id=\"T_80962_row8_col1\" class=\"data row8 col1\" >0.200000</td>\n",
              "      <td id=\"T_80962_row8_col2\" class=\"data row8 col2\" >0.200000</td>\n",
              "      <td id=\"T_80962_row8_col3\" class=\"data row8 col3\" >0.200000</td>\n",
              "      <td id=\"T_80962_row8_col4\" class=\"data row8 col4\" >0.200000</td>\n",
              "      <td id=\"T_80962_row8_col5\" class=\"data row8 col5\" >0</td>\n",
              "    </tr>\n",
              "    <tr>\n",
              "      <th id=\"T_80962_level0_row9\" class=\"row_heading level0 row9\" >Tweet9</th>\n",
              "      <td id=\"T_80962_row9_col0\" class=\"data row9 col0\" >0.830000</td>\n",
              "      <td id=\"T_80962_row9_col1\" class=\"data row9 col1\" >0.040000</td>\n",
              "      <td id=\"T_80962_row9_col2\" class=\"data row9 col2\" >0.040000</td>\n",
              "      <td id=\"T_80962_row9_col3\" class=\"data row9 col3\" >0.040000</td>\n",
              "      <td id=\"T_80962_row9_col4\" class=\"data row9 col4\" >0.040000</td>\n",
              "      <td id=\"T_80962_row9_col5\" class=\"data row9 col5\" >0</td>\n",
              "    </tr>\n",
              "  </tbody>\n",
              "</table>\n"
            ]
          },
          "metadata": {},
          "execution_count": 26
        }
      ]
    },
    {
      "cell_type": "markdown",
      "source": [
        "Topics distribution across Tweets\n"
      ],
      "metadata": {
        "id": "vFWXNfp4rvM1"
      }
    },
    {
      "cell_type": "markdown",
      "source": [
        "This is to view the total number of tweets for each topic."
      ],
      "metadata": {
        "id": "QABOt9fJaeiH"
      }
    },
    {
      "cell_type": "code",
      "source": [
        "df_topic_distribution = df_document_topic['Dominant_topic'].value_counts().reset_index(name=\"Num Tweets\")\n",
        "df_topic_distribution.columns = ['Topic Num', 'Num Tweets']\n",
        "df_topic_distribution"
      ],
      "metadata": {
        "colab": {
          "base_uri": "https://localhost:8080/",
          "height": 206
        },
        "id": "OAgHEnOpa7cW",
        "outputId": "fb2b960d-0893-4fc3-a6e2-9d2b2b389230"
      },
      "execution_count": null,
      "outputs": [
        {
          "output_type": "execute_result",
          "data": {
            "text/plain": [
              "   Topic Num  Num Tweets\n",
              "0          0         789\n",
              "1          1         460\n",
              "2          4         414\n",
              "3          2         377\n",
              "4          3         360"
            ],
            "text/html": [
              "\n",
              "  <div id=\"df-f98f12a1-6d1d-471f-ac44-a67636382a78\">\n",
              "    <div class=\"colab-df-container\">\n",
              "      <div>\n",
              "<style scoped>\n",
              "    .dataframe tbody tr th:only-of-type {\n",
              "        vertical-align: middle;\n",
              "    }\n",
              "\n",
              "    .dataframe tbody tr th {\n",
              "        vertical-align: top;\n",
              "    }\n",
              "\n",
              "    .dataframe thead th {\n",
              "        text-align: right;\n",
              "    }\n",
              "</style>\n",
              "<table border=\"1\" class=\"dataframe\">\n",
              "  <thead>\n",
              "    <tr style=\"text-align: right;\">\n",
              "      <th></th>\n",
              "      <th>Topic Num</th>\n",
              "      <th>Num Tweets</th>\n",
              "    </tr>\n",
              "  </thead>\n",
              "  <tbody>\n",
              "    <tr>\n",
              "      <th>0</th>\n",
              "      <td>0</td>\n",
              "      <td>789</td>\n",
              "    </tr>\n",
              "    <tr>\n",
              "      <th>1</th>\n",
              "      <td>1</td>\n",
              "      <td>460</td>\n",
              "    </tr>\n",
              "    <tr>\n",
              "      <th>2</th>\n",
              "      <td>4</td>\n",
              "      <td>414</td>\n",
              "    </tr>\n",
              "    <tr>\n",
              "      <th>3</th>\n",
              "      <td>2</td>\n",
              "      <td>377</td>\n",
              "    </tr>\n",
              "    <tr>\n",
              "      <th>4</th>\n",
              "      <td>3</td>\n",
              "      <td>360</td>\n",
              "    </tr>\n",
              "  </tbody>\n",
              "</table>\n",
              "</div>\n",
              "      <button class=\"colab-df-convert\" onclick=\"convertToInteractive('df-f98f12a1-6d1d-471f-ac44-a67636382a78')\"\n",
              "              title=\"Convert this dataframe to an interactive table.\"\n",
              "              style=\"display:none;\">\n",
              "        \n",
              "  <svg xmlns=\"http://www.w3.org/2000/svg\" height=\"24px\"viewBox=\"0 0 24 24\"\n",
              "       width=\"24px\">\n",
              "    <path d=\"M0 0h24v24H0V0z\" fill=\"none\"/>\n",
              "    <path d=\"M18.56 5.44l.94 2.06.94-2.06 2.06-.94-2.06-.94-.94-2.06-.94 2.06-2.06.94zm-11 1L8.5 8.5l.94-2.06 2.06-.94-2.06-.94L8.5 2.5l-.94 2.06-2.06.94zm10 10l.94 2.06.94-2.06 2.06-.94-2.06-.94-.94-2.06-.94 2.06-2.06.94z\"/><path d=\"M17.41 7.96l-1.37-1.37c-.4-.4-.92-.59-1.43-.59-.52 0-1.04.2-1.43.59L10.3 9.45l-7.72 7.72c-.78.78-.78 2.05 0 2.83L4 21.41c.39.39.9.59 1.41.59.51 0 1.02-.2 1.41-.59l7.78-7.78 2.81-2.81c.8-.78.8-2.07 0-2.86zM5.41 20L4 18.59l7.72-7.72 1.47 1.35L5.41 20z\"/>\n",
              "  </svg>\n",
              "      </button>\n",
              "      \n",
              "  <style>\n",
              "    .colab-df-container {\n",
              "      display:flex;\n",
              "      flex-wrap:wrap;\n",
              "      gap: 12px;\n",
              "    }\n",
              "\n",
              "    .colab-df-convert {\n",
              "      background-color: #E8F0FE;\n",
              "      border: none;\n",
              "      border-radius: 50%;\n",
              "      cursor: pointer;\n",
              "      display: none;\n",
              "      fill: #1967D2;\n",
              "      height: 32px;\n",
              "      padding: 0 0 0 0;\n",
              "      width: 32px;\n",
              "    }\n",
              "\n",
              "    .colab-df-convert:hover {\n",
              "      background-color: #E2EBFA;\n",
              "      box-shadow: 0px 1px 2px rgba(60, 64, 67, 0.3), 0px 1px 3px 1px rgba(60, 64, 67, 0.15);\n",
              "      fill: #174EA6;\n",
              "    }\n",
              "\n",
              "    [theme=dark] .colab-df-convert {\n",
              "      background-color: #3B4455;\n",
              "      fill: #D2E3FC;\n",
              "    }\n",
              "\n",
              "    [theme=dark] .colab-df-convert:hover {\n",
              "      background-color: #434B5C;\n",
              "      box-shadow: 0px 1px 3px 1px rgba(0, 0, 0, 0.15);\n",
              "      filter: drop-shadow(0px 1px 2px rgba(0, 0, 0, 0.3));\n",
              "      fill: #FFFFFF;\n",
              "    }\n",
              "  </style>\n",
              "\n",
              "      <script>\n",
              "        const buttonEl =\n",
              "          document.querySelector('#df-f98f12a1-6d1d-471f-ac44-a67636382a78 button.colab-df-convert');\n",
              "        buttonEl.style.display =\n",
              "          google.colab.kernel.accessAllowed ? 'block' : 'none';\n",
              "\n",
              "        async function convertToInteractive(key) {\n",
              "          const element = document.querySelector('#df-f98f12a1-6d1d-471f-ac44-a67636382a78');\n",
              "          const dataTable =\n",
              "            await google.colab.kernel.invokeFunction('convertToInteractive',\n",
              "                                                     [key], {});\n",
              "          if (!dataTable) return;\n",
              "\n",
              "          const docLinkHtml = 'Like what you see? Visit the ' +\n",
              "            '<a target=\"_blank\" href=https://colab.research.google.com/notebooks/data_table.ipynb>data table notebook</a>'\n",
              "            + ' to learn more about interactive tables.';\n",
              "          element.innerHTML = '';\n",
              "          dataTable['output_type'] = 'display_data';\n",
              "          await google.colab.output.renderOutput(dataTable, element);\n",
              "          const docLink = document.createElement('div');\n",
              "          docLink.innerHTML = docLinkHtml;\n",
              "          element.appendChild(docLink);\n",
              "        }\n",
              "      </script>\n",
              "    </div>\n",
              "  </div>\n",
              "  "
            ]
          },
          "metadata": {},
          "execution_count": 27
        }
      ]
    },
    {
      "cell_type": "markdown",
      "source": [
        "# Visualize the LDA model with pyLDAvis\n",
        "\n",
        "The pyLDAvis offers the best visualization to view the topics-keywords distribution.\n",
        "A good topic model will have non-overlapping, fairly big sized blobs for each topic."
      ],
      "metadata": {
        "id": "qG-Cq3cyvQuM"
      }
    },
    {
      "cell_type": "code",
      "source": [
        "pyLDAvis.enable_notebook()\n",
        "panel = pyLDAvis.sklearn.prepare(best_lda_model, data_vectorized, vectorizer, mds='tsne')\n",
        "panel"
      ],
      "metadata": {
        "colab": {
          "base_uri": "https://localhost:8080/",
          "height": 882
        },
        "id": "qjSk8zcweT6r",
        "outputId": "44d5a292-1906-41c3-973f-8b5233933d69"
      },
      "execution_count": null,
      "outputs": [
        {
          "output_type": "execute_result",
          "data": {
            "text/plain": [
              "PreparedData(topic_coordinates=                x           y  topics  cluster       Freq\n",
              "topic                                                    \n",
              "1      150.222153  -72.269554       1        1  23.882937\n",
              "3       51.163364 -159.968018       2        1  19.943360\n",
              "0      -73.144554   21.523815       3        1  19.232287\n",
              "4      -66.410133 -110.606438       4        1  19.062288\n",
              "2       54.417324   12.443444       5        1  17.879128, topic_info=                          Term       Freq      Total Category  logprob  \\\n",
              "6132               would oscar  18.000000  18.000000  Default  30.0000   \n",
              "3773            note similarly  18.000000  18.000000  Default  29.0000   \n",
              "4918       similarly dependent  18.000000  18.000000  Default  28.0000   \n",
              "3774  note similarly dependent  18.000000  18.000000  Default  27.0000   \n",
              "3602                must watch  18.000000  18.000000  Default  26.0000   \n",
              "...                        ...        ...        ...      ...      ...   \n",
              "46                action fight   1.842209   2.213320   Topic5  -6.2398   \n",
              "1976              fight action   1.842209   2.213320   Topic5  -6.2398   \n",
              "1977        fight action fight   1.842209   2.213320   Topic5  -6.2398   \n",
              "3857           operation fight   1.842209   2.213320   Topic5  -6.2398   \n",
              "101            african country   2.585009   4.347797   Topic5  -5.9010   \n",
              "\n",
              "      loglift  \n",
              "6132  30.0000  \n",
              "3773  29.0000  \n",
              "4918  28.0000  \n",
              "3774  27.0000  \n",
              "3602  26.0000  \n",
              "...       ...  \n",
              "46     1.5380  \n",
              "1976   1.5380  \n",
              "1977   1.5380  \n",
              "3857   1.5380  \n",
              "101    1.2016  \n",
              "\n",
              "[181 rows x 6 columns], token_table=      Topic      Freq                      Term\n",
              "term                                           \n",
              "22        1  0.987860              access scene\n",
              "23        1  0.987860         access scene look\n",
              "46        5  0.903620              action fight\n",
              "47        2  0.833156          activity weekend\n",
              "48        2  0.833156  activity weekend express\n",
              "...     ...       ...                       ...\n",
              "6034      5  0.939370          woman world hold\n",
              "6066      4  0.956148                world come\n",
              "6067      4  0.956148        world come provide\n",
              "6082      5  0.939370                world hold\n",
              "6132      4  0.980038               would oscar\n",
              "\n",
              "[152 rows x 3 columns], R=30, lambda_step=0.01, plot_opts={'xlab': 'PC1', 'ylab': 'PC2'}, topic_order=[2, 4, 1, 5, 3])"
            ],
            "text/html": [
              "\n",
              "<link rel=\"stylesheet\" type=\"text/css\" href=\"https://cdn.jsdelivr.net/gh/bmabey/pyLDAvis@3.3.1/pyLDAvis/js/ldavis.v1.0.0.css\">\n",
              "\n",
              "\n",
              "<div id=\"ldavis_el641403310867843367032903715\"></div>\n",
              "<script type=\"text/javascript\">\n",
              "\n",
              "var ldavis_el641403310867843367032903715_data = {\"mdsDat\": {\"x\": [150.22215270996094, 51.16336441040039, -73.1445541381836, -66.4101333618164, 54.41732406616211], \"y\": [-72.2695541381836, -159.968017578125, 21.523815155029297, -110.60643768310547, 12.44344425201416], \"topics\": [1, 2, 3, 4, 5], \"cluster\": [1, 1, 1, 1, 1], \"Freq\": [23.88293721106864, 19.943360074111446, 19.232286957661824, 19.06228750232838, 17.879128254829716]}, \"tinfo\": {\"Term\": [\"would oscar\", \"note similarly\", \"similarly dependent\", \"note similarly dependent\", \"must watch\", \"access scene\", \"scene look epic\", \"scene look\", \"watch access scene\", \"must watch access\", \"watch access\", \"access scene look\", \"look epic\", \"lawlessness medicalaidracialprofiling\", \"biggboss time\", \"exclusive biggboss time\", \"exclusive biggboss\", \"happy name\", \"happy name shall\", \"name shall never\", \"name shall\", \"never forgotten\", \"shall never forgotten\", \"shall never\", \"friend continue\", \"woman team qualify\", \"team qualify woman\", \"qualify woman\", \"qualify woman world\", \"know woman team\", \"access scene\", \"access scene look\", \"look epic\", \"must watch\", \"must watch access\", \"scene look\", \"scene look epic\", \"watch access\", \"watch access scene\", \"child show\", \"child show mile\", \"mile walk\", \"mile walk drinkabl\", \"show mile\", \"show mile walk\", \"walk drinkabl\", \"shift manufacture\", \"articulate dump\", \"articulate dump truck\", \"dump truck\", \"dump truck away\", \"manufacture articulate\", \"manufacture articulate dump\", \"say shift\", \"say shift manufacture\", \"shift manufacture articulate\", \"truck away\", \"country blame\", \"impose sanction\", \"impose sanction many\", \"activity weekend\", \"activity weekend express\", \"express solidarity\", \"many activity\", \"many activity weekend\", \"organize many\", \"organize many activity\", \"weekend express\", \"weekend express solidarity\", \"adamantly refuse\", \"adamantly refuse condemn\", \"aggression nread\", \"condemn russian\", \"condemn russian aggression\", \"refuse condemn\", \"refuse condemn russian\", \"russian aggression\", \"russian aggression nread\", \"stick adamantly\", \"stick adamantly refuse\", \"call country\", \"call country reject\", \"country reject\", \"country reject weak\", \"huge call\", \"huge call country\", \"leak text return\", \"reject weak\", \"reject weak leak\", \"return origi\", \"happy name\", \"happy name shall\", \"name shall\", \"name shall never\", \"never forgotten\", \"shall never\", \"shall never forgotten\", \"friend continue\", \"dose addition\", \"dictate term\", \"dictate term use\", \"term use\", \"colour friend\", \"colour friend continue\", \"continue colour\", \"continue colour friend\", \"continue indian\", \"continue indian friend\", \"continue white\", \"friend continue colour\", \"friend continue white\", \"indian friend\", \"indian friend continue\", \"find public\", \"study find\", \"study find public\", \"ever hear\", \"join nation\", \"say join\", \"say join nation\", \"would oscar\", \"note similarly\", \"note similarly dependent\", \"similarly dependent\", \"first experience\", \"bad league\", \"bad league world\", \"come provide\", \"dstv premiership\", \"dstv premiership bad\", \"league world\", \"league world come\", \"premiership bad\", \"premiership bad league\", \"reveal dstv\", \"reveal dstv premiership\", \"world come\", \"world come provide\", \"break government\", \"break government publicly\", \"compromise trip\", \"compromise trip waiver\", \"government publicly\", \"government publicly reject\", \"publicly reject\", \"publicly reject compromise\", \"reject compromise\", \"reject compromise trip\", \"trip waiver\", \"trip waiver covid\", \"lawlessness medicalaidracialprofiling\", \"biggboss time\", \"exclusive biggboss\", \"exclusive biggboss time\", \"know woman\", \"know woman team\", \"qualify woman\", \"qualify woman world\", \"team qualify\", \"team qualify woman\", \"woman team\", \"woman team qualify\", \"woman world\", \"woman world hold\", \"world hold\", \"disturb drug\", \"disturb drug protect\", \"drug protect\", \"government disturb\", \"government disturb drug\", \"mozambique government\", \"mozambique government disturb\", \"much better\", \"african country stream\", \"country stream\", \"stand stand\", \"action fight\", \"fight action\", \"fight action fight\", \"operation fight\", \"african country\"], \"Freq\": [18.0, 18.0, 18.0, 18.0, 18.0, 18.0, 18.0, 18.0, 18.0, 18.0, 18.0, 18.0, 18.0, 9.0, 7.0, 7.0, 7.0, 6.0, 6.0, 6.0, 6.0, 6.0, 6.0, 6.0, 5.0, 5.0, 5.0, 5.0, 5.0, 5.0, 17.861576998584496, 17.861576998584496, 17.861576998584496, 17.861576998584496, 17.861576998584496, 17.861576998584496, 17.861576998584496, 17.861576998584496, 17.861576998584496, 6.252929668198772, 6.252929668198772, 6.252929668198772, 6.252929668198772, 6.252929668198772, 6.252929668198772, 6.252929668198772, 4.2031871797831, 4.117798633328762, 4.117798633328762, 4.117798633328762, 4.117798633328762, 4.117798633328762, 4.117798633328762, 4.117798633328762, 4.117798633328762, 4.117798633328762, 4.117798633328762, 3.9666835221596553, 3.9666835221596553, 3.9666835221596553, 3.2349958279042395, 3.2349958279042395, 3.2349958279042395, 3.2349958279042395, 3.2349958279042395, 3.2349958279042395, 3.2349958279042395, 3.2349958279042395, 3.2349958279042395, 3.1617597524325496, 3.1617597524325496, 3.1617597524325496, 3.1617597524325496, 3.1617597524325496, 3.1617597524325496, 3.1617597524325496, 3.1617597524325496, 3.1617597524325496, 3.1617597524325496, 3.1617597524325496, 2.804081081849124, 2.804081081849123, 2.8040810818491235, 2.7297576793030616, 2.7297576793030616, 2.7297576793030616, 2.7297576793030616, 2.7297576793030616, 2.7297576793030616, 2.7297576793030616, 6.235166501863876, 6.235166501863876, 6.235166501863876, 6.235166501863876, 6.235166501863876, 6.235166501863876, 6.235166501863876, 5.454087310685658, 4.154705040699978, 3.219100924358084, 3.219100924358084, 3.219100924358084, 2.7721962754676697, 2.7721962754676697, 2.7721962754676697, 2.7721962754676697, 2.7721962754676697, 2.7721962754676697, 2.7721962754676697, 2.7721962754676697, 2.7721962754676697, 2.7721962754676697, 2.7721962754676697, 2.6976319650787866, 2.6976319650787866, 2.6976319650787866, 2.4595962631378367, 2.375601010657406, 2.187284561262657, 2.187284561262657, 17.997821644674232, 17.92494983137723, 17.92494983137723, 17.92494983137723, 5.014274009253544, 3.814687652983792, 3.814687652983792, 3.814687652983792, 3.814687652983792, 3.814687652983792, 3.814687652983792, 3.814687652983792, 3.814687652983792, 3.814687652983792, 3.814687652983792, 3.814687652983792, 3.814687652983792, 3.814687652983792, 2.4108227736353953, 2.4108227736353953, 2.4108227736353953, 2.4108227736353953, 2.4108227736353953, 2.4108227736353953, 2.4108227736353953, 2.4108227736353953, 2.4108227736353953, 2.4108227736353953, 2.4108227736353953, 2.4108227736353953, 8.807936255100106, 7.136105161822602, 7.136105161822602, 7.136105161822602, 4.951612430147062, 4.951612430147062, 4.951612430147062, 4.951612430147062, 4.951612430147062, 4.951612430147062, 4.951612430147062, 4.951612430147062, 4.951612430147062, 4.951612430147062, 4.951612430147062, 3.3833363505633454, 3.3833363505633454, 3.3833363505633454, 3.3833363505633454, 3.3833363505633454, 3.3833363505633454, 3.3833363505633454, 2.7033850868840053, 2.669278872499074, 2.669278872499074, 2.4127290600193834, 1.8422090916837524, 1.8422090916837524, 1.8422090916837524, 1.8422090916837524, 2.5850091299217195], \"Total\": [18.0, 18.0, 18.0, 18.0, 18.0, 18.0, 18.0, 18.0, 18.0, 18.0, 18.0, 18.0, 18.0, 9.0, 7.0, 7.0, 7.0, 6.0, 6.0, 6.0, 6.0, 6.0, 6.0, 6.0, 5.0, 5.0, 5.0, 5.0, 5.0, 5.0, 18.22120794367062, 18.22120794367062, 18.22120794367062, 18.22120794367062, 18.22120794367062, 18.22120794367062, 18.22120794367062, 18.22120794367062, 18.22120794367062, 6.612563869183931, 6.612563869183931, 6.612563869183931, 6.612563869183931, 6.612563869183931, 6.612563869183931, 6.612563869183931, 4.565002007156118, 4.477428060527179, 4.477428060527179, 4.477428060527179, 4.477428060527179, 4.477428060527179, 4.477428060527179, 4.477428060527179, 4.477428060527179, 4.477428060527179, 4.477428060527179, 4.3263129752514615, 4.3263129752514615, 4.3263129752514615, 3.6007667117165805, 3.6007667117165805, 3.6007667117165805, 3.6007667117165805, 3.6007667117165805, 3.6007667117165805, 3.6007667117165805, 3.6007667117165805, 3.6007667117165805, 3.527529090378588, 3.527529090378588, 3.527529090378588, 3.527529090378588, 3.527529090378588, 3.527529090378588, 3.527529090378588, 3.527529090378588, 3.527529090378588, 3.527529090378588, 3.527529090378588, 3.170417438920989, 3.1704174389209885, 3.170417438920989, 3.0955246628095647, 3.0955246628095647, 3.0955246628095647, 3.0955246628095647, 3.0955246628095647, 3.0955246628095647, 3.0955246628095647, 6.603159577602895, 6.603159577602895, 6.603159577602895, 6.603159577602895, 6.603159577602895, 6.603159577602895, 6.603159577602895, 5.822075887261921, 4.522741430325008, 3.587106926049672, 3.587106926049672, 3.587106926049672, 3.140185242322039, 3.140185242322039, 3.140185242322039, 3.140185242322039, 3.140185242322039, 3.140185242322039, 3.140185242322039, 3.140185242322039, 3.140185242322039, 3.140185242322039, 3.140185242322039, 3.065638251861189, 3.065638251861189, 3.065638251861189, 2.8276079364865234, 2.7443922603242514, 2.5552912692676846, 2.5552912692676846, 18.366635859961228, 18.293734065556734, 18.293734065556734, 18.293734065556734, 5.383089460498207, 4.183454594606102, 4.183454594606102, 4.183454594606102, 4.183454594606102, 4.183454594606102, 4.183454594606102, 4.183454594606102, 4.183454594606102, 4.183454594606102, 4.183454594606102, 4.183454594606102, 4.183454594606102, 4.183454594606102, 2.779588958260499, 2.779588958260499, 2.779588958260499, 2.779588958260499, 2.779588958260499, 2.779588958260499, 2.779588958260499, 2.779588958260499, 2.779588958260499, 2.779588958260499, 2.779588958260499, 2.779588958260499, 9.17908232561728, 7.507222333581138, 7.507222333581138, 7.507222333581138, 5.322713824733232, 5.322713824733232, 5.322713824733232, 5.322713824733232, 5.322713824733232, 5.322713824733232, 5.322713824733232, 5.322713824733232, 5.322713824733232, 5.322713824733232, 5.322713824733232, 3.7544421969288817, 3.7544421969288817, 3.7544421969288817, 3.7544421969288817, 3.7544421969288817, 3.7544421969288817, 3.7544421969288817, 3.07453328939312, 3.040397300701034, 3.040397300701034, 2.783838202419641, 2.213319784567338, 2.213319784567338, 2.213319784567338, 2.213319784567338, 4.347796536394398], \"Category\": [\"Default\", \"Default\", \"Default\", \"Default\", \"Default\", \"Default\", \"Default\", \"Default\", \"Default\", \"Default\", \"Default\", \"Default\", \"Default\", \"Default\", \"Default\", \"Default\", \"Default\", \"Default\", \"Default\", \"Default\", \"Default\", \"Default\", \"Default\", \"Default\", \"Default\", \"Default\", \"Default\", \"Default\", \"Default\", \"Default\", \"Topic1\", \"Topic1\", \"Topic1\", \"Topic1\", \"Topic1\", \"Topic1\", \"Topic1\", \"Topic1\", \"Topic1\", \"Topic1\", \"Topic1\", \"Topic1\", \"Topic1\", \"Topic1\", \"Topic1\", \"Topic1\", \"Topic1\", \"Topic1\", \"Topic1\", \"Topic1\", \"Topic1\", \"Topic1\", \"Topic1\", \"Topic1\", \"Topic1\", \"Topic1\", \"Topic1\", \"Topic1\", \"Topic1\", \"Topic1\", \"Topic2\", \"Topic2\", \"Topic2\", \"Topic2\", \"Topic2\", \"Topic2\", \"Topic2\", \"Topic2\", \"Topic2\", \"Topic2\", \"Topic2\", \"Topic2\", \"Topic2\", \"Topic2\", \"Topic2\", \"Topic2\", \"Topic2\", \"Topic2\", \"Topic2\", \"Topic2\", \"Topic2\", \"Topic2\", \"Topic2\", \"Topic2\", \"Topic2\", \"Topic2\", \"Topic2\", \"Topic2\", \"Topic2\", \"Topic2\", \"Topic3\", \"Topic3\", \"Topic3\", \"Topic3\", \"Topic3\", \"Topic3\", \"Topic3\", \"Topic3\", \"Topic3\", \"Topic3\", \"Topic3\", \"Topic3\", \"Topic3\", \"Topic3\", \"Topic3\", \"Topic3\", \"Topic3\", \"Topic3\", \"Topic3\", \"Topic3\", \"Topic3\", \"Topic3\", \"Topic3\", \"Topic3\", \"Topic3\", \"Topic3\", \"Topic3\", \"Topic3\", \"Topic3\", \"Topic3\", \"Topic4\", \"Topic4\", \"Topic4\", \"Topic4\", \"Topic4\", \"Topic4\", \"Topic4\", \"Topic4\", \"Topic4\", \"Topic4\", \"Topic4\", \"Topic4\", \"Topic4\", \"Topic4\", \"Topic4\", \"Topic4\", \"Topic4\", \"Topic4\", \"Topic4\", \"Topic4\", \"Topic4\", \"Topic4\", \"Topic4\", \"Topic4\", \"Topic4\", \"Topic4\", \"Topic4\", \"Topic4\", \"Topic4\", \"Topic4\", \"Topic5\", \"Topic5\", \"Topic5\", \"Topic5\", \"Topic5\", \"Topic5\", \"Topic5\", \"Topic5\", \"Topic5\", \"Topic5\", \"Topic5\", \"Topic5\", \"Topic5\", \"Topic5\", \"Topic5\", \"Topic5\", \"Topic5\", \"Topic5\", \"Topic5\", \"Topic5\", \"Topic5\", \"Topic5\", \"Topic5\", \"Topic5\", \"Topic5\", \"Topic5\", \"Topic5\", \"Topic5\", \"Topic5\", \"Topic5\", \"Topic5\"], \"logprob\": [30.0, 29.0, 28.0, 27.0, 26.0, 25.0, 24.0, 23.0, 22.0, 21.0, 20.0, 19.0, 18.0, 17.0, 16.0, 15.0, 14.0, 13.0, 12.0, 11.0, 10.0, 9.0, 8.0, 7.0, 6.0, 5.0, 4.0, 3.0, 2.0, 1.0, -4.2576, -4.2576, -4.2576, -4.2576, -4.2576, -4.2576, -4.2576, -4.2576, -4.2576, -5.3073, -5.3073, -5.3073, -5.3073, -5.3073, -5.3073, -5.3073, -5.7045, -5.725, -5.725, -5.725, -5.725, -5.725, -5.725, -5.725, -5.725, -5.725, -5.725, -5.7624, -5.7624, -5.7624, -5.786, -5.786, -5.786, -5.786, -5.786, -5.786, -5.786, -5.786, -5.786, -5.8089, -5.8089, -5.8089, -5.8089, -5.8089, -5.8089, -5.8089, -5.8089, -5.8089, -5.8089, -5.8089, -5.929, -5.929, -5.929, -5.9558, -5.9558, -5.9558, -5.9558, -5.9558, -5.9558, -5.9558, -5.0935, -5.0935, -5.0935, -5.0935, -5.0935, -5.0935, -5.0935, -5.2274, -5.4995, -5.7546, -5.7546, -5.7546, -5.9041, -5.9041, -5.9041, -5.9041, -5.9041, -5.9041, -5.9041, -5.9041, -5.9041, -5.9041, -5.9041, -5.9314, -5.9314, -5.9314, -6.0237, -6.0585, -6.1411, -6.1411, -4.0246, -4.0287, -4.0287, -4.0287, -5.3026, -5.576, -5.576, -5.576, -5.576, -5.576, -5.576, -5.576, -5.576, -5.576, -5.576, -5.576, -5.576, -5.576, -6.0349, -6.0349, -6.0349, -6.0349, -6.0349, -6.0349, -6.0349, -6.0349, -6.0349, -6.0349, -6.0349, -6.0349, -4.6751, -4.8856, -4.8856, -4.8856, -5.2511, -5.2511, -5.2511, -5.2511, -5.2511, -5.2511, -5.2511, -5.2511, -5.2511, -5.2511, -5.2511, -5.6319, -5.6319, -5.6319, -5.6319, -5.6319, -5.6319, -5.6319, -5.8563, -5.869, -5.869, -5.97, -6.2398, -6.2398, -6.2398, -6.2398, -5.901], \"loglift\": [30.0, 29.0, 28.0, 27.0, 26.0, 25.0, 24.0, 23.0, 22.0, 21.0, 20.0, 19.0, 18.0, 17.0, 16.0, 15.0, 14.0, 13.0, 12.0, 11.0, 10.0, 9.0, 8.0, 7.0, 6.0, 5.0, 4.0, 3.0, 2.0, 1.0, 1.4121, 1.4121, 1.4121, 1.4121, 1.4121, 1.4121, 1.4121, 1.4121, 1.4121, 1.3761, 1.3761, 1.3761, 1.3761, 1.3761, 1.3761, 1.3761, 1.3494, 1.3483, 1.3483, 1.3483, 1.3483, 1.3483, 1.3483, 1.3483, 1.3483, 1.3483, 1.3483, 1.3452, 1.3452, 1.3452, 1.5052, 1.5052, 1.5052, 1.5052, 1.5052, 1.5052, 1.5052, 1.5052, 1.5052, 1.5028, 1.5028, 1.5028, 1.5028, 1.5028, 1.5028, 1.5028, 1.5028, 1.5028, 1.5028, 1.5028, 1.4895, 1.4895, 1.4895, 1.4865, 1.4865, 1.4865, 1.4865, 1.4865, 1.4865, 1.4865, 1.5912, 1.5912, 1.5912, 1.5912, 1.5912, 1.5912, 1.5912, 1.5833, 1.5637, 1.5403, 1.5403, 1.5403, 1.5239, 1.5239, 1.5239, 1.5239, 1.5239, 1.5239, 1.5239, 1.5239, 1.5239, 1.5239, 1.5239, 1.5207, 1.5207, 1.5207, 1.5091, 1.5043, 1.4931, 1.4931, 1.6372, 1.6371, 1.6371, 1.6371, 1.5865, 1.5652, 1.5652, 1.5652, 1.5652, 1.5652, 1.5652, 1.5652, 1.5652, 1.5652, 1.5652, 1.5652, 1.5652, 1.5652, 1.5151, 1.5151, 1.5151, 1.5151, 1.5151, 1.5151, 1.5151, 1.5151, 1.5151, 1.5151, 1.5151, 1.5151, 1.6803, 1.6708, 1.6708, 1.6708, 1.6493, 1.6493, 1.6493, 1.6493, 1.6493, 1.6493, 1.6493, 1.6493, 1.6493, 1.6493, 1.6493, 1.6175, 1.6175, 1.6175, 1.6175, 1.6175, 1.6175, 1.6175, 1.5929, 1.5914, 1.5914, 1.5785, 1.538, 1.538, 1.538, 1.538, 1.2016]}, \"token.table\": {\"Topic\": [1, 1, 5, 2, 2, 2, 2, 4, 5, 5, 2, 1, 1, 4, 4, 5, 4, 4, 2, 2, 1, 1, 3, 3, 4, 4, 4, 2, 2, 3, 3, 3, 3, 3, 1, 2, 2, 5, 3, 3, 5, 5, 3, 5, 4, 4, 1, 1, 3, 5, 5, 2, 5, 5, 3, 4, 3, 3, 3, 5, 5, 4, 4, 3, 3, 2, 2, 1, 1, 3, 3, 3, 5, 5, 5, 4, 4, 2, 1, 1, 1, 2, 2, 1, 1, 5, 5, 5, 1, 1, 3, 3, 3, 4, 4, 5, 2, 2, 4, 4, 4, 4, 5, 5, 2, 2, 4, 4, 2, 2, 2, 4, 4, 2, 2, 3, 3, 1, 1, 1, 1, 3, 3, 1, 1, 1, 1, 4, 5, 2, 2, 3, 3, 5, 5, 3, 4, 4, 1, 1, 1, 1, 2, 2, 5, 5, 5, 5, 4, 4, 5, 4], \"Freq\": [0.987859863936877, 0.987859863936877, 0.9036199892782154, 0.8331558915600563, 0.8331558915600563, 0.8504536527232518, 0.8504536527232518, 0.23000156323536108, 0.6900046897060832, 0.9867131507149677, 0.8504536527232518, 0.8933700208974512, 0.8933700208974512, 0.9561475831857629, 0.9561475831857629, 0.9324354187150895, 0.7195308479177528, 0.7195308479177528, 0.9462476338828781, 0.9462476338828782, 0.9073636366616255, 0.9073636366616255, 0.9553576520159754, 0.9553576520159754, 0.9561475831857629, 0.7195308479177528, 0.7195308479177528, 0.8504536527232518, 0.8504536527232518, 0.9553576520159754, 0.9553576520159754, 0.9553576520159754, 0.9553576520159754, 0.9553576520159754, 0.9245748106717834, 0.9462476338828781, 0.969141042887746, 0.9867131507149677, 0.8363285683551598, 0.8363285683551598, 0.7990534525885064, 0.7990534525885064, 0.8844193420344519, 0.7990534525885064, 0.9561475831857629, 0.9561475831857629, 0.8933700208974512, 0.8933700208974512, 0.7073116375833641, 0.9324354187150895, 0.9324354187150895, 0.8331558915600563, 0.9036199892782154, 0.9036199892782154, 0.9785890419975876, 0.9288346472208263, 0.8588002109246747, 0.9553576520159754, 0.9553576520159754, 0.7990534525885064, 0.7990534525885064, 0.7195308479177528, 0.7195308479177528, 0.9086559138069693, 0.9086559138069693, 0.969141042887746, 0.969141042887746, 0.9245748106717834, 0.9245748106717834, 0.9553576520159754, 0.9553576520159754, 0.7287587962238674, 0.9393704348271239, 0.9393704348271239, 0.9804901711015827, 0.9561475831857629, 0.9561475831857629, 0.969141042887746, 0.987859863936877, 0.8933700208974512, 0.8933700208974512, 0.8331558915600563, 0.8331558915600563, 0.9073636366616255, 0.9073636366616255, 0.7990534525885064, 0.7990534525885064, 0.9757578525331785, 0.987859863936877, 0.987859863936877, 0.9086559138069693, 0.9086559138069693, 0.9086559138069693, 0.9839434603944651, 0.9839434603944651, 0.9036199892782154, 0.8331558915600563, 0.8331558915600563, 0.9561475831857629, 0.9561475831857629, 0.7195308479177528, 0.7195308479177528, 0.9393704348271239, 0.9393704348271239, 0.8504536527232518, 0.8504536527232518, 0.7195308479177528, 0.7195308479177528, 0.969141042887746, 0.969141042887746, 0.969141042887746, 0.9561475831857629, 0.9561475831857629, 0.8504536527232518, 0.8504536527232518, 0.782689638576183, 0.782689638576183, 0.8933700208974512, 0.8933700208974512, 0.987859863936877, 0.987859863936877, 0.9086559138069693, 0.9086559138069693, 0.8762318162685541, 0.8933700208974512, 0.9073636366616255, 0.9073636366616255, 0.9839434603944651, 0.7184325577045574, 0.8504536527232518, 0.8504536527232518, 0.9785890419975876, 0.9785890419975876, 0.9393704348271239, 0.9393704348271239, 0.8363285683551598, 0.7195308479177528, 0.7195308479177528, 0.8933700208974512, 0.9073636366616255, 0.987859863936877, 0.987859863936877, 0.8331558915600563, 0.8331558915600563, 0.9393704348271239, 0.9393704348271239, 0.9393704348271239, 0.9393704348271239, 0.9561475831857629, 0.9561475831857629, 0.9393704348271239, 0.9800379414740571], \"Term\": [\"access scene\", \"access scene look\", \"action fight\", \"activity weekend\", \"activity weekend express\", \"adamantly refuse\", \"adamantly refuse condemn\", \"african country\", \"african country\", \"african country stream\", \"aggression nread\", \"articulate dump\", \"articulate dump truck\", \"bad league\", \"bad league world\", \"biggboss time\", \"break government\", \"break government publicly\", \"call country\", \"call country reject\", \"child show\", \"child show mile\", \"colour friend\", \"colour friend continue\", \"come provide\", \"compromise trip\", \"compromise trip waiver\", \"condemn russian\", \"condemn russian aggression\", \"continue colour\", \"continue colour friend\", \"continue indian\", \"continue indian friend\", \"continue white\", \"country blame\", \"country reject\", \"country reject weak\", \"country stream\", \"dictate term\", \"dictate term use\", \"disturb drug\", \"disturb drug protect\", \"dose addition\", \"drug protect\", \"dstv premiership\", \"dstv premiership bad\", \"dump truck\", \"dump truck away\", \"ever hear\", \"exclusive biggboss\", \"exclusive biggboss time\", \"express solidarity\", \"fight action\", \"fight action fight\", \"find public\", \"first experience\", \"friend continue\", \"friend continue colour\", \"friend continue white\", \"government disturb\", \"government disturb drug\", \"government publicly\", \"government publicly reject\", \"happy name\", \"happy name shall\", \"huge call\", \"huge call country\", \"impose sanction\", \"impose sanction many\", \"indian friend\", \"indian friend continue\", \"join nation\", \"know woman\", \"know woman team\", \"lawlessness medicalaidracialprofiling\", \"league world\", \"league world come\", \"leak text return\", \"look epic\", \"manufacture articulate\", \"manufacture articulate dump\", \"many activity\", \"many activity weekend\", \"mile walk\", \"mile walk drinkabl\", \"mozambique government\", \"mozambique government disturb\", \"much better\", \"must watch\", \"must watch access\", \"name shall\", \"name shall never\", \"never forgotten\", \"note similarly\", \"note similarly dependent\", \"operation fight\", \"organize many\", \"organize many activity\", \"premiership bad\", \"premiership bad league\", \"publicly reject\", \"publicly reject compromise\", \"qualify woman\", \"qualify woman world\", \"refuse condemn\", \"refuse condemn russian\", \"reject compromise\", \"reject compromise trip\", \"reject weak\", \"reject weak leak\", \"return origi\", \"reveal dstv\", \"reveal dstv premiership\", \"russian aggression\", \"russian aggression nread\", \"say join\", \"say join nation\", \"say shift\", \"say shift manufacture\", \"scene look\", \"scene look epic\", \"shall never\", \"shall never forgotten\", \"shift manufacture\", \"shift manufacture articulate\", \"show mile\", \"show mile walk\", \"similarly dependent\", \"stand stand\", \"stick adamantly\", \"stick adamantly refuse\", \"study find\", \"study find public\", \"team qualify\", \"team qualify woman\", \"term use\", \"trip waiver\", \"trip waiver covid\", \"truck away\", \"walk drinkabl\", \"watch access\", \"watch access scene\", \"weekend express\", \"weekend express solidarity\", \"woman team\", \"woman team qualify\", \"woman world\", \"woman world hold\", \"world come\", \"world come provide\", \"world hold\", \"would oscar\"]}, \"R\": 30, \"lambda.step\": 0.01, \"plot.opts\": {\"xlab\": \"PC1\", \"ylab\": \"PC2\"}, \"topic.order\": [2, 4, 1, 5, 3]};\n",
              "\n",
              "function LDAvis_load_lib(url, callback){\n",
              "  var s = document.createElement('script');\n",
              "  s.src = url;\n",
              "  s.async = true;\n",
              "  s.onreadystatechange = s.onload = callback;\n",
              "  s.onerror = function(){console.warn(\"failed to load library \" + url);};\n",
              "  document.getElementsByTagName(\"head\")[0].appendChild(s);\n",
              "}\n",
              "\n",
              "if(typeof(LDAvis) !== \"undefined\"){\n",
              "   // already loaded: just create the visualization\n",
              "   !function(LDAvis){\n",
              "       new LDAvis(\"#\" + \"ldavis_el641403310867843367032903715\", ldavis_el641403310867843367032903715_data);\n",
              "   }(LDAvis);\n",
              "}else if(typeof define === \"function\" && define.amd){\n",
              "   // require.js is available: use it to load d3/LDAvis\n",
              "   require.config({paths: {d3: \"https://d3js.org/d3.v5\"}});\n",
              "   require([\"d3\"], function(d3){\n",
              "      window.d3 = d3;\n",
              "      LDAvis_load_lib(\"https://cdn.jsdelivr.net/gh/bmabey/pyLDAvis@3.3.1/pyLDAvis/js/ldavis.v3.0.0.js\", function(){\n",
              "        new LDAvis(\"#\" + \"ldavis_el641403310867843367032903715\", ldavis_el641403310867843367032903715_data);\n",
              "      });\n",
              "    });\n",
              "}else{\n",
              "    // require.js not available: dynamically load d3 & LDAvis\n",
              "    LDAvis_load_lib(\"https://d3js.org/d3.v5.js\", function(){\n",
              "         LDAvis_load_lib(\"https://cdn.jsdelivr.net/gh/bmabey/pyLDAvis@3.3.1/pyLDAvis/js/ldavis.v3.0.0.js\", function(){\n",
              "                 new LDAvis(\"#\" + \"ldavis_el641403310867843367032903715\", ldavis_el641403310867843367032903715_data);\n",
              "            })\n",
              "         });\n",
              "}\n",
              "</script>"
            ]
          },
          "metadata": {},
          "execution_count": 28
        }
      ]
    },
    {
      "cell_type": "markdown",
      "source": [
        "### To view the visualization above in a seperate webpage"
      ],
      "metadata": {
        "id": "BeCnXWEnvlHA"
      }
    },
    {
      "cell_type": "code",
      "source": [
        "p = pyLDAvis.sklearn.prepare(best_lda_model, data_vectorized, vectorizer, mds='tsne')\n",
        "pyLDAvis.save_html(p, 'lda.html')"
      ],
      "metadata": {
        "id": "b1_wsLtoeTf1"
      },
      "execution_count": null,
      "outputs": []
    },
    {
      "cell_type": "markdown",
      "source": [
        "### Top 15 keywords for each topic"
      ],
      "metadata": {
        "id": "z6KD1hI9wGoz"
      }
    },
    {
      "cell_type": "code",
      "source": [
        "# Show top n keywords for each topic\n",
        "def show_topics(vectorizer=vectorizer, lda_model=lda_model, n_words=20):\n",
        "    \"\"\"\n",
        "    function to show table of top words in the topic model\n",
        "    paramaters\n",
        "    ----------\n",
        "    vectorizer: vector obtained used vectorizer\n",
        "    lda_model: topic model instance\n",
        "    n_words: number of words to show in table\n",
        "\n",
        "    returns:\n",
        "    topic_kewords: list of words for each topic\n",
        "    \"\"\"\n",
        "    keywords = np.array(vectorizer.get_feature_names())\n",
        "    topic_keywords = []\n",
        "    for topic_weights in lda_model.components_:\n",
        "        top_keyword_locs = (-topic_weights).argsort()[:n_words]\n",
        "        topic_keywords.append(keywords.take(top_keyword_locs))\n",
        "    return topic_keywords\n",
        "\n",
        "topic_keywords = show_topics(vectorizer=vectorizer, lda_model=best_lda_model, n_words=15)        \n",
        "\n",
        "# Topic - Keywords Dataframe\n",
        "df_topic_keywords = pd.DataFrame(topic_keywords)\n",
        "df_topic_keywords.columns = ['Word '+str(i) for i in range(df_topic_keywords.shape[1])]\n",
        "df_topic_keywords.index = ['Topic '+str(i) for i in range(df_topic_keywords.shape[0])]\n",
        "df_topic_keywords\n"
      ],
      "metadata": {
        "colab": {
          "base_uri": "https://localhost:8080/",
          "height": 444
        },
        "id": "5V3xseiBeTss",
        "outputId": "e7f0959a-992d-47c9-dcd7-eed559bcecc1"
      },
      "execution_count": null,
      "outputs": [
        {
          "output_type": "execute_result",
          "data": {
            "text/plain": [
              "                                        Word 0                    Word 1  \\\n",
              "Topic 0                        never forgotten               shall never   \n",
              "Topic 1                        scene look epic         must watch access   \n",
              "Topic 2  lawlessness medicalaidracialprofiling             biggboss time   \n",
              "Topic 3                          many activity     many activity weekend   \n",
              "Topic 4                            would oscar  note similarly dependent   \n",
              "\n",
              "                          Word 2               Word 3                  Word 4  \\\n",
              "Topic 0         happy name shall           happy name        name shall never   \n",
              "Topic 1               scene look         watch access       access scene look   \n",
              "Topic 2  exclusive biggboss time   exclusive biggboss         know woman team   \n",
              "Topic 3         activity weekend        organize many  organize many activity   \n",
              "Topic 4           note similarly  similarly dependent        first experience   \n",
              "\n",
              "                           Word 5              Word 6  \\\n",
              "Topic 0     shall never forgotten          name shall   \n",
              "Topic 1              access scene          must watch   \n",
              "Topic 2                world hold       qualify woman   \n",
              "Topic 3  activity weekend express  express solidarity   \n",
              "Topic 4    premiership bad league    dstv premiership   \n",
              "\n",
              "                             Word 7           Word 8  \\\n",
              "Topic 0             friend continue    dose addition   \n",
              "Topic 1          watch access scene        look epic   \n",
              "Topic 2         qualify woman world     team qualify   \n",
              "Topic 3  weekend express solidarity  weekend express   \n",
              "Topic 4            bad league world       world come   \n",
              "\n",
              "                           Word 9               Word 10  \\\n",
              "Topic 0                  term use      dictate term use   \n",
              "Topic 1            show mile walk    mile walk drinkabl   \n",
              "Topic 2        team qualify woman            know woman   \n",
              "Topic 3  russian aggression nread      aggression nread   \n",
              "Topic 4        world come provide  dstv premiership bad   \n",
              "\n",
              "                            Word 11                   Word 12  \\\n",
              "Topic 0                dictate term           continue colour   \n",
              "Topic 1                   mile walk             walk drinkabl   \n",
              "Topic 2                 woman world        woman team qualify   \n",
              "Topic 3  condemn russian aggression  adamantly refuse condemn   \n",
              "Topic 4                  bad league         league world come   \n",
              "\n",
              "                        Word 13                  Word 14  \n",
              "Topic 0  continue colour friend          continue indian  \n",
              "Topic 1               show mile          child show mile  \n",
              "Topic 2              woman team         woman world hold  \n",
              "Topic 3      russian aggression         adamantly refuse  \n",
              "Topic 4         premiership bad  reveal dstv premiership  "
            ],
            "text/html": [
              "\n",
              "  <div id=\"df-c8d5f80b-6245-42cc-a494-b481627a00fd\">\n",
              "    <div class=\"colab-df-container\">\n",
              "      <div>\n",
              "<style scoped>\n",
              "    .dataframe tbody tr th:only-of-type {\n",
              "        vertical-align: middle;\n",
              "    }\n",
              "\n",
              "    .dataframe tbody tr th {\n",
              "        vertical-align: top;\n",
              "    }\n",
              "\n",
              "    .dataframe thead th {\n",
              "        text-align: right;\n",
              "    }\n",
              "</style>\n",
              "<table border=\"1\" class=\"dataframe\">\n",
              "  <thead>\n",
              "    <tr style=\"text-align: right;\">\n",
              "      <th></th>\n",
              "      <th>Word 0</th>\n",
              "      <th>Word 1</th>\n",
              "      <th>Word 2</th>\n",
              "      <th>Word 3</th>\n",
              "      <th>Word 4</th>\n",
              "      <th>Word 5</th>\n",
              "      <th>Word 6</th>\n",
              "      <th>Word 7</th>\n",
              "      <th>Word 8</th>\n",
              "      <th>Word 9</th>\n",
              "      <th>Word 10</th>\n",
              "      <th>Word 11</th>\n",
              "      <th>Word 12</th>\n",
              "      <th>Word 13</th>\n",
              "      <th>Word 14</th>\n",
              "    </tr>\n",
              "  </thead>\n",
              "  <tbody>\n",
              "    <tr>\n",
              "      <th>Topic 0</th>\n",
              "      <td>never forgotten</td>\n",
              "      <td>shall never</td>\n",
              "      <td>happy name shall</td>\n",
              "      <td>happy name</td>\n",
              "      <td>name shall never</td>\n",
              "      <td>shall never forgotten</td>\n",
              "      <td>name shall</td>\n",
              "      <td>friend continue</td>\n",
              "      <td>dose addition</td>\n",
              "      <td>term use</td>\n",
              "      <td>dictate term use</td>\n",
              "      <td>dictate term</td>\n",
              "      <td>continue colour</td>\n",
              "      <td>continue colour friend</td>\n",
              "      <td>continue indian</td>\n",
              "    </tr>\n",
              "    <tr>\n",
              "      <th>Topic 1</th>\n",
              "      <td>scene look epic</td>\n",
              "      <td>must watch access</td>\n",
              "      <td>scene look</td>\n",
              "      <td>watch access</td>\n",
              "      <td>access scene look</td>\n",
              "      <td>access scene</td>\n",
              "      <td>must watch</td>\n",
              "      <td>watch access scene</td>\n",
              "      <td>look epic</td>\n",
              "      <td>show mile walk</td>\n",
              "      <td>mile walk drinkabl</td>\n",
              "      <td>mile walk</td>\n",
              "      <td>walk drinkabl</td>\n",
              "      <td>show mile</td>\n",
              "      <td>child show mile</td>\n",
              "    </tr>\n",
              "    <tr>\n",
              "      <th>Topic 2</th>\n",
              "      <td>lawlessness medicalaidracialprofiling</td>\n",
              "      <td>biggboss time</td>\n",
              "      <td>exclusive biggboss time</td>\n",
              "      <td>exclusive biggboss</td>\n",
              "      <td>know woman team</td>\n",
              "      <td>world hold</td>\n",
              "      <td>qualify woman</td>\n",
              "      <td>qualify woman world</td>\n",
              "      <td>team qualify</td>\n",
              "      <td>team qualify woman</td>\n",
              "      <td>know woman</td>\n",
              "      <td>woman world</td>\n",
              "      <td>woman team qualify</td>\n",
              "      <td>woman team</td>\n",
              "      <td>woman world hold</td>\n",
              "    </tr>\n",
              "    <tr>\n",
              "      <th>Topic 3</th>\n",
              "      <td>many activity</td>\n",
              "      <td>many activity weekend</td>\n",
              "      <td>activity weekend</td>\n",
              "      <td>organize many</td>\n",
              "      <td>organize many activity</td>\n",
              "      <td>activity weekend express</td>\n",
              "      <td>express solidarity</td>\n",
              "      <td>weekend express solidarity</td>\n",
              "      <td>weekend express</td>\n",
              "      <td>russian aggression nread</td>\n",
              "      <td>aggression nread</td>\n",
              "      <td>condemn russian aggression</td>\n",
              "      <td>adamantly refuse condemn</td>\n",
              "      <td>russian aggression</td>\n",
              "      <td>adamantly refuse</td>\n",
              "    </tr>\n",
              "    <tr>\n",
              "      <th>Topic 4</th>\n",
              "      <td>would oscar</td>\n",
              "      <td>note similarly dependent</td>\n",
              "      <td>note similarly</td>\n",
              "      <td>similarly dependent</td>\n",
              "      <td>first experience</td>\n",
              "      <td>premiership bad league</td>\n",
              "      <td>dstv premiership</td>\n",
              "      <td>bad league world</td>\n",
              "      <td>world come</td>\n",
              "      <td>world come provide</td>\n",
              "      <td>dstv premiership bad</td>\n",
              "      <td>bad league</td>\n",
              "      <td>league world come</td>\n",
              "      <td>premiership bad</td>\n",
              "      <td>reveal dstv premiership</td>\n",
              "    </tr>\n",
              "  </tbody>\n",
              "</table>\n",
              "</div>\n",
              "      <button class=\"colab-df-convert\" onclick=\"convertToInteractive('df-c8d5f80b-6245-42cc-a494-b481627a00fd')\"\n",
              "              title=\"Convert this dataframe to an interactive table.\"\n",
              "              style=\"display:none;\">\n",
              "        \n",
              "  <svg xmlns=\"http://www.w3.org/2000/svg\" height=\"24px\"viewBox=\"0 0 24 24\"\n",
              "       width=\"24px\">\n",
              "    <path d=\"M0 0h24v24H0V0z\" fill=\"none\"/>\n",
              "    <path d=\"M18.56 5.44l.94 2.06.94-2.06 2.06-.94-2.06-.94-.94-2.06-.94 2.06-2.06.94zm-11 1L8.5 8.5l.94-2.06 2.06-.94-2.06-.94L8.5 2.5l-.94 2.06-2.06.94zm10 10l.94 2.06.94-2.06 2.06-.94-2.06-.94-.94-2.06-.94 2.06-2.06.94z\"/><path d=\"M17.41 7.96l-1.37-1.37c-.4-.4-.92-.59-1.43-.59-.52 0-1.04.2-1.43.59L10.3 9.45l-7.72 7.72c-.78.78-.78 2.05 0 2.83L4 21.41c.39.39.9.59 1.41.59.51 0 1.02-.2 1.41-.59l7.78-7.78 2.81-2.81c.8-.78.8-2.07 0-2.86zM5.41 20L4 18.59l7.72-7.72 1.47 1.35L5.41 20z\"/>\n",
              "  </svg>\n",
              "      </button>\n",
              "      \n",
              "  <style>\n",
              "    .colab-df-container {\n",
              "      display:flex;\n",
              "      flex-wrap:wrap;\n",
              "      gap: 12px;\n",
              "    }\n",
              "\n",
              "    .colab-df-convert {\n",
              "      background-color: #E8F0FE;\n",
              "      border: none;\n",
              "      border-radius: 50%;\n",
              "      cursor: pointer;\n",
              "      display: none;\n",
              "      fill: #1967D2;\n",
              "      height: 32px;\n",
              "      padding: 0 0 0 0;\n",
              "      width: 32px;\n",
              "    }\n",
              "\n",
              "    .colab-df-convert:hover {\n",
              "      background-color: #E2EBFA;\n",
              "      box-shadow: 0px 1px 2px rgba(60, 64, 67, 0.3), 0px 1px 3px 1px rgba(60, 64, 67, 0.15);\n",
              "      fill: #174EA6;\n",
              "    }\n",
              "\n",
              "    [theme=dark] .colab-df-convert {\n",
              "      background-color: #3B4455;\n",
              "      fill: #D2E3FC;\n",
              "    }\n",
              "\n",
              "    [theme=dark] .colab-df-convert:hover {\n",
              "      background-color: #434B5C;\n",
              "      box-shadow: 0px 1px 3px 1px rgba(0, 0, 0, 0.15);\n",
              "      filter: drop-shadow(0px 1px 2px rgba(0, 0, 0, 0.3));\n",
              "      fill: #FFFFFF;\n",
              "    }\n",
              "  </style>\n",
              "\n",
              "      <script>\n",
              "        const buttonEl =\n",
              "          document.querySelector('#df-c8d5f80b-6245-42cc-a494-b481627a00fd button.colab-df-convert');\n",
              "        buttonEl.style.display =\n",
              "          google.colab.kernel.accessAllowed ? 'block' : 'none';\n",
              "\n",
              "        async function convertToInteractive(key) {\n",
              "          const element = document.querySelector('#df-c8d5f80b-6245-42cc-a494-b481627a00fd');\n",
              "          const dataTable =\n",
              "            await google.colab.kernel.invokeFunction('convertToInteractive',\n",
              "                                                     [key], {});\n",
              "          if (!dataTable) return;\n",
              "\n",
              "          const docLinkHtml = 'Like what you see? Visit the ' +\n",
              "            '<a target=\"_blank\" href=https://colab.research.google.com/notebooks/data_table.ipynb>data table notebook</a>'\n",
              "            + ' to learn more about interactive tables.';\n",
              "          element.innerHTML = '';\n",
              "          dataTable['output_type'] = 'display_data';\n",
              "          await google.colab.output.renderOutput(dataTable, element);\n",
              "          const docLink = document.createElement('div');\n",
              "          docLink.innerHTML = docLinkHtml;\n",
              "          element.appendChild(docLink);\n",
              "        }\n",
              "      </script>\n",
              "    </div>\n",
              "  </div>\n",
              "  "
            ]
          },
          "metadata": {},
          "execution_count": 30
        }
      ]
    },
    {
      "cell_type": "markdown",
      "source": [
        "# Inference and Model Deployment"
      ],
      "metadata": {
        "id": "cNYHpzkJAmxc"
      }
    },
    {
      "cell_type": "markdown",
      "source": [
        "For inference, both the model and the vectorizer are saved in pickle file format for deployment on an AWS EC2 using the functions below. The detailed pipeline and associated functions using Airflow for scheduling can be found [here](https://github.com/SitwalaM/nlp-topic-modelling/blob/main/scripts/nlp_dag.py)"
      ],
      "metadata": {
        "id": "a5_v_KVJAs-T"
      }
    },
    {
      "cell_type": "code",
      "source": [
        "def get_inference(model, vectorizer, topics, text, threshold):\n",
        "    \"\"\"\n",
        "    runs inference on text input\n",
        "    paramaters\n",
        "    ----------\n",
        "    model: loaded model to use to transform the input\n",
        "    vectorizer: instance of the vectorizer e.g TfidfVectorizer(ngram_range=(2, 3))\n",
        "    topics: the list of topics in the model\n",
        "    text: input string to be classified\n",
        "    threshold: float of threshold to use to output a topic based on the score\n",
        "    returns\n",
        "    -------\n",
        "    tuple => top score\n",
        "    \n",
        "    \"\"\"\n",
        "    v_text = vectorizer.transform([text])\n",
        "    score = model.transform(v_text)\n",
        "\n",
        "    labels = set()\n",
        "    for i in range(len(score[0])):\n",
        "        if score[0][i] > threshold:\n",
        "            labels.add(topics[i])\n",
        "    if not labels:\n",
        "        return 'None', -1, set()\n",
        "\n",
        "    return topics[np.argmax(score)]\n",
        "\n",
        "def modelling():\n",
        "    # function to run model in the pipeline\n",
        "    # returns dataframe with predictions in column topic\n",
        "\n",
        "    with open(\"lda_model.pk\",\"rb\") as f:\n",
        "        lda_model = pickle.load(f)\n",
        "    \n",
        "    # vectorizer  \n",
        "    vectorizer = pickle.load(open(\"vectorizer.pickle\", 'rb'))\n",
        "\n",
        "    # topics\n",
        "    topics = list(np.arange(0,10))\n",
        "    \n",
        "\n",
        "    #cleaned_df = extract_clean()    \n",
        "    cleaned_df = pd.read_csv(\"clean_\"+str(dt.date.today()) + \".csv\")\n",
        "    cleaned_df[\"topic\"] = cleaned_df.clean_tweet.apply(lambda x: get_inference(lda_model,vectorizer,topics,np.str_(x),0))\n",
        "    cleaned_df.to_csv(\"predict_\"+\"clean_\"+str(dt.date.today()) + \".csv\")\n",
        "\n",
        "    return cleaned_df\n"
      ],
      "metadata": {
        "id": "xiC6y2jXBz8N"
      },
      "execution_count": null,
      "outputs": []
    },
    {
      "cell_type": "markdown",
      "source": [
        "## Airflow used for scheduling the pipeline"
      ],
      "metadata": {
        "id": "K-G1kYmAW3OD"
      }
    },
    {
      "cell_type": "markdown",
      "source": [
        "\n",
        "![](https://drive.google.com/uc?export=view&id=11zw3SkXHEoJd1lI2Pvtu7poZPlLRoN3N)"
      ],
      "metadata": {
        "id": "vX3vDxkiD67E"
      }
    },
    {
      "cell_type": "markdown",
      "source": [
        "# Conclusion\n"
      ],
      "metadata": {
        "id": "nZjtTMk8M62D"
      }
    },
    {
      "cell_type": "markdown",
      "source": [
        "* As tweets are quite short, models are very difficult to optimize for interpretable topics.\n",
        "* Use of N-grams for the modelling improves interpretability\n",
        "* The work presented here provides a starting point for using NLP monitor tweets for topics of interest.\n",
        "* As tweets are extremely dynamic, model drift is a big problem for this kind of deployment. The model needs to be retrained and reviewed very frequently. In this case, the model interpretability deterioted within a week of running the pipeline. \n",
        "* Some georaphical locations don't have a way of isolating tweets to location, all tweets used in this experiment are only a subset of tweets in the location."
      ],
      "metadata": {
        "id": "67T57xF3dFaG"
      }
    }
  ]
}